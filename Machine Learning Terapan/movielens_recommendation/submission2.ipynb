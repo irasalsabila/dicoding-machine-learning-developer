{
 "cells": [
  {
   "cell_type": "markdown",
   "metadata": {},
   "source": [
    "# Data Collection"
   ]
  },
  {
   "cell_type": "markdown",
   "metadata": {},
   "source": [
    "Dataset ini diambil dari [Kaggle Movielens Dataset](https://www.kaggle.com/datasets/ayushimishra2809/movielens-dataset)"
   ]
  },
  {
   "cell_type": "code",
   "execution_count": 1,
   "metadata": {},
   "outputs": [
    {
     "name": "stdout",
     "output_type": "stream",
     "text": [
      "Skipping, found downloaded files in \".\\movielens-dataset\" (use force=True to force download)\n"
     ]
    }
   ],
   "source": [
    "import opendatasets\n",
    "\n",
    "opendatasets.download('https://www.kaggle.com/datasets/ayushimishra2809/movielens-dataset')"
   ]
  },
  {
   "cell_type": "markdown",
   "metadata": {},
   "source": [
    "# Data Understanding"
   ]
  },
  {
   "cell_type": "markdown",
   "metadata": {},
   "source": [
    "Terdapat dua file, yakni movies dan rating movies.\n",
    "\n",
    "Digunakan `len` untuk mengetahui berapa banyak data yang dimiliki"
   ]
  },
  {
   "cell_type": "code",
   "execution_count": 2,
   "metadata": {},
   "outputs": [
    {
     "name": "stdout",
     "output_type": "stream",
     "text": [
      "Length of Movies dataset:  10329\n",
      "Length of Ratings dataset:  105339\n"
     ]
    }
   ],
   "source": [
    "import pandas as pd\n",
    "\n",
    "movies = pd.read_csv('movielens-dataset/movies.csv')\n",
    "rating = pd.read_csv('movielens-dataset/ratings.csv')\n",
    "\n",
    "\n",
    "print('Length of Movies dataset: ', len(movies))\n",
    "print('Length of Ratings dataset: ', len(rating))\n"
   ]
  },
  {
   "cell_type": "markdown",
   "metadata": {},
   "source": [
    "# Explanatory Data Analysis"
   ]
  },
  {
   "cell_type": "markdown",
   "metadata": {},
   "source": [
    "## Univariate Data Analysis"
   ]
  },
  {
   "cell_type": "markdown",
   "metadata": {},
   "source": [
    "### Movies Variable"
   ]
  },
  {
   "cell_type": "markdown",
   "metadata": {},
   "source": [
    "Di bawah ini merupakan informasi mengenai dataset `movies`, yang mana terdapat informasi mengenai `movieId`, `title` dari movie, dan `genres` dari movie."
   ]
  },
  {
   "cell_type": "code",
   "execution_count": 4,
   "metadata": {},
   "outputs": [
    {
     "data": {
      "text/html": [
       "<div>\n",
       "<style scoped>\n",
       "    .dataframe tbody tr th:only-of-type {\n",
       "        vertical-align: middle;\n",
       "    }\n",
       "\n",
       "    .dataframe tbody tr th {\n",
       "        vertical-align: top;\n",
       "    }\n",
       "\n",
       "    .dataframe thead th {\n",
       "        text-align: right;\n",
       "    }\n",
       "</style>\n",
       "<table border=\"1\" class=\"dataframe\">\n",
       "  <thead>\n",
       "    <tr style=\"text-align: right;\">\n",
       "      <th></th>\n",
       "      <th>movieId</th>\n",
       "      <th>title</th>\n",
       "      <th>genres</th>\n",
       "    </tr>\n",
       "  </thead>\n",
       "  <tbody>\n",
       "    <tr>\n",
       "      <th>0</th>\n",
       "      <td>1</td>\n",
       "      <td>Toy Story (1995)</td>\n",
       "      <td>Adventure|Animation|Children|Comedy|Fantasy</td>\n",
       "    </tr>\n",
       "    <tr>\n",
       "      <th>1</th>\n",
       "      <td>2</td>\n",
       "      <td>Jumanji (1995)</td>\n",
       "      <td>Adventure|Children|Fantasy</td>\n",
       "    </tr>\n",
       "    <tr>\n",
       "      <th>2</th>\n",
       "      <td>3</td>\n",
       "      <td>Grumpier Old Men (1995)</td>\n",
       "      <td>Comedy|Romance</td>\n",
       "    </tr>\n",
       "    <tr>\n",
       "      <th>3</th>\n",
       "      <td>4</td>\n",
       "      <td>Waiting to Exhale (1995)</td>\n",
       "      <td>Comedy|Drama|Romance</td>\n",
       "    </tr>\n",
       "    <tr>\n",
       "      <th>4</th>\n",
       "      <td>5</td>\n",
       "      <td>Father of the Bride Part II (1995)</td>\n",
       "      <td>Comedy</td>\n",
       "    </tr>\n",
       "    <tr>\n",
       "      <th>...</th>\n",
       "      <td>...</td>\n",
       "      <td>...</td>\n",
       "      <td>...</td>\n",
       "    </tr>\n",
       "    <tr>\n",
       "      <th>10324</th>\n",
       "      <td>146684</td>\n",
       "      <td>Cosmic Scrat-tastrophe (2015)</td>\n",
       "      <td>Animation|Children|Comedy</td>\n",
       "    </tr>\n",
       "    <tr>\n",
       "      <th>10325</th>\n",
       "      <td>146878</td>\n",
       "      <td>Le Grand Restaurant (1966)</td>\n",
       "      <td>Comedy</td>\n",
       "    </tr>\n",
       "    <tr>\n",
       "      <th>10326</th>\n",
       "      <td>148238</td>\n",
       "      <td>A Very Murray Christmas (2015)</td>\n",
       "      <td>Comedy</td>\n",
       "    </tr>\n",
       "    <tr>\n",
       "      <th>10327</th>\n",
       "      <td>148626</td>\n",
       "      <td>The Big Short (2015)</td>\n",
       "      <td>Drama</td>\n",
       "    </tr>\n",
       "    <tr>\n",
       "      <th>10328</th>\n",
       "      <td>149532</td>\n",
       "      <td>Marco Polo: One Hundred Eyes (2015)</td>\n",
       "      <td>(no genres listed)</td>\n",
       "    </tr>\n",
       "  </tbody>\n",
       "</table>\n",
       "<p>10329 rows × 3 columns</p>\n",
       "</div>"
      ],
      "text/plain": [
       "       movieId                                title  \\\n",
       "0            1                     Toy Story (1995)   \n",
       "1            2                       Jumanji (1995)   \n",
       "2            3              Grumpier Old Men (1995)   \n",
       "3            4             Waiting to Exhale (1995)   \n",
       "4            5   Father of the Bride Part II (1995)   \n",
       "...        ...                                  ...   \n",
       "10324   146684        Cosmic Scrat-tastrophe (2015)   \n",
       "10325   146878           Le Grand Restaurant (1966)   \n",
       "10326   148238       A Very Murray Christmas (2015)   \n",
       "10327   148626                 The Big Short (2015)   \n",
       "10328   149532  Marco Polo: One Hundred Eyes (2015)   \n",
       "\n",
       "                                            genres  \n",
       "0      Adventure|Animation|Children|Comedy|Fantasy  \n",
       "1                       Adventure|Children|Fantasy  \n",
       "2                                   Comedy|Romance  \n",
       "3                             Comedy|Drama|Romance  \n",
       "4                                           Comedy  \n",
       "...                                            ...  \n",
       "10324                    Animation|Children|Comedy  \n",
       "10325                                       Comedy  \n",
       "10326                                       Comedy  \n",
       "10327                                        Drama  \n",
       "10328                           (no genres listed)  \n",
       "\n",
       "[10329 rows x 3 columns]"
      ]
     },
     "execution_count": 4,
     "metadata": {},
     "output_type": "execute_result"
    }
   ],
   "source": [
    "movies"
   ]
  },
  {
   "cell_type": "markdown",
   "metadata": {},
   "source": [
    "`info()` digunakan untuk mengetahui informasi terkait tipe data dan non-null data pada dataset `movies`."
   ]
  },
  {
   "cell_type": "code",
   "execution_count": 5,
   "metadata": {},
   "outputs": [
    {
     "name": "stdout",
     "output_type": "stream",
     "text": [
      "<class 'pandas.core.frame.DataFrame'>\n",
      "RangeIndex: 10329 entries, 0 to 10328\n",
      "Data columns (total 3 columns):\n",
      " #   Column   Non-Null Count  Dtype \n",
      "---  ------   --------------  ----- \n",
      " 0   movieId  10329 non-null  int64 \n",
      " 1   title    10329 non-null  object\n",
      " 2   genres   10329 non-null  object\n",
      "dtypes: int64(1), object(2)\n",
      "memory usage: 242.2+ KB\n"
     ]
    }
   ],
   "source": [
    "# movies information\n",
    "movies.info()"
   ]
  },
  {
   "cell_type": "markdown",
   "metadata": {},
   "source": [
    "`isna()` dilakukan untuk mengetahui apakah ada missing value pada dataset `movies`"
   ]
  },
  {
   "cell_type": "code",
   "execution_count": 12,
   "metadata": {},
   "outputs": [
    {
     "data": {
      "text/plain": [
       "movieId    0\n",
       "title      0\n",
       "genres     0\n",
       "dtype: int64"
      ]
     },
     "execution_count": 12,
     "metadata": {},
     "output_type": "execute_result"
    }
   ],
   "source": [
    "movies.isna().sum()"
   ]
  },
  {
   "cell_type": "markdown",
   "metadata": {},
   "source": [
    "Dataset `movies` memiliki banyak data 10,329 sample dengan 3 fitur"
   ]
  },
  {
   "cell_type": "code",
   "execution_count": 7,
   "metadata": {},
   "outputs": [
    {
     "data": {
      "text/plain": [
       "(10329, 3)"
      ]
     },
     "execution_count": 7,
     "metadata": {},
     "output_type": "execute_result"
    }
   ],
   "source": [
    "movies.shape"
   ]
  },
  {
   "cell_type": "code",
   "execution_count": 6,
   "metadata": {},
   "outputs": [
    {
     "name": "stdout",
     "output_type": "stream",
     "text": [
      "Banyak data:  10329\n",
      "Judul movies yang ada:  ['Toy Story (1995)' 'Jumanji (1995)' 'Grumpier Old Men (1995)' ...\n",
      " 'A Very Murray Christmas (2015)' 'The Big Short (2015)'\n",
      " 'Marco Polo: One Hundred Eyes (2015)']\n"
     ]
    }
   ],
   "source": [
    "print('Banyak data: ', len(movies.movieId.unique()))\n",
    "print('Judul movies yang ada: ', movies.title.unique())"
   ]
  },
  {
   "cell_type": "markdown",
   "metadata": {},
   "source": [
    "### Ratings Variable"
   ]
  },
  {
   "cell_type": "markdown",
   "metadata": {},
   "source": [
    "Di bawah ini merupakan informasi mengenai dataset `movies`, yang mana terdapat informasi mengenai `userId`, `movieId`, `rating` dari movie, dan `timestamp` dari movie."
   ]
  },
  {
   "cell_type": "code",
   "execution_count": 9,
   "metadata": {},
   "outputs": [
    {
     "data": {
      "text/html": [
       "<div>\n",
       "<style scoped>\n",
       "    .dataframe tbody tr th:only-of-type {\n",
       "        vertical-align: middle;\n",
       "    }\n",
       "\n",
       "    .dataframe tbody tr th {\n",
       "        vertical-align: top;\n",
       "    }\n",
       "\n",
       "    .dataframe thead th {\n",
       "        text-align: right;\n",
       "    }\n",
       "</style>\n",
       "<table border=\"1\" class=\"dataframe\">\n",
       "  <thead>\n",
       "    <tr style=\"text-align: right;\">\n",
       "      <th></th>\n",
       "      <th>userId</th>\n",
       "      <th>movieId</th>\n",
       "      <th>rating</th>\n",
       "      <th>timestamp</th>\n",
       "    </tr>\n",
       "  </thead>\n",
       "  <tbody>\n",
       "    <tr>\n",
       "      <th>0</th>\n",
       "      <td>1</td>\n",
       "      <td>16</td>\n",
       "      <td>4.0</td>\n",
       "      <td>1217897793</td>\n",
       "    </tr>\n",
       "    <tr>\n",
       "      <th>1</th>\n",
       "      <td>1</td>\n",
       "      <td>24</td>\n",
       "      <td>1.5</td>\n",
       "      <td>1217895807</td>\n",
       "    </tr>\n",
       "    <tr>\n",
       "      <th>2</th>\n",
       "      <td>1</td>\n",
       "      <td>32</td>\n",
       "      <td>4.0</td>\n",
       "      <td>1217896246</td>\n",
       "    </tr>\n",
       "    <tr>\n",
       "      <th>3</th>\n",
       "      <td>1</td>\n",
       "      <td>47</td>\n",
       "      <td>4.0</td>\n",
       "      <td>1217896556</td>\n",
       "    </tr>\n",
       "    <tr>\n",
       "      <th>4</th>\n",
       "      <td>1</td>\n",
       "      <td>50</td>\n",
       "      <td>4.0</td>\n",
       "      <td>1217896523</td>\n",
       "    </tr>\n",
       "    <tr>\n",
       "      <th>...</th>\n",
       "      <td>...</td>\n",
       "      <td>...</td>\n",
       "      <td>...</td>\n",
       "      <td>...</td>\n",
       "    </tr>\n",
       "    <tr>\n",
       "      <th>105334</th>\n",
       "      <td>668</td>\n",
       "      <td>142488</td>\n",
       "      <td>4.0</td>\n",
       "      <td>1451535844</td>\n",
       "    </tr>\n",
       "    <tr>\n",
       "      <th>105335</th>\n",
       "      <td>668</td>\n",
       "      <td>142507</td>\n",
       "      <td>3.5</td>\n",
       "      <td>1451535889</td>\n",
       "    </tr>\n",
       "    <tr>\n",
       "      <th>105336</th>\n",
       "      <td>668</td>\n",
       "      <td>143385</td>\n",
       "      <td>4.0</td>\n",
       "      <td>1446388585</td>\n",
       "    </tr>\n",
       "    <tr>\n",
       "      <th>105337</th>\n",
       "      <td>668</td>\n",
       "      <td>144976</td>\n",
       "      <td>2.5</td>\n",
       "      <td>1448656898</td>\n",
       "    </tr>\n",
       "    <tr>\n",
       "      <th>105338</th>\n",
       "      <td>668</td>\n",
       "      <td>148626</td>\n",
       "      <td>4.5</td>\n",
       "      <td>1451148148</td>\n",
       "    </tr>\n",
       "  </tbody>\n",
       "</table>\n",
       "<p>105339 rows × 4 columns</p>\n",
       "</div>"
      ],
      "text/plain": [
       "        userId  movieId  rating   timestamp\n",
       "0            1       16     4.0  1217897793\n",
       "1            1       24     1.5  1217895807\n",
       "2            1       32     4.0  1217896246\n",
       "3            1       47     4.0  1217896556\n",
       "4            1       50     4.0  1217896523\n",
       "...        ...      ...     ...         ...\n",
       "105334     668   142488     4.0  1451535844\n",
       "105335     668   142507     3.5  1451535889\n",
       "105336     668   143385     4.0  1446388585\n",
       "105337     668   144976     2.5  1448656898\n",
       "105338     668   148626     4.5  1451148148\n",
       "\n",
       "[105339 rows x 4 columns]"
      ]
     },
     "execution_count": 9,
     "metadata": {},
     "output_type": "execute_result"
    }
   ],
   "source": [
    "rating"
   ]
  },
  {
   "cell_type": "markdown",
   "metadata": {},
   "source": [
    "`info()` digunakan untuk mengetahui informasi terkait tipe data dan non-null data pada dataset `rating`."
   ]
  },
  {
   "cell_type": "code",
   "execution_count": 3,
   "metadata": {},
   "outputs": [
    {
     "name": "stdout",
     "output_type": "stream",
     "text": [
      "<class 'pandas.core.frame.DataFrame'>\n",
      "RangeIndex: 105339 entries, 0 to 105338\n",
      "Data columns (total 4 columns):\n",
      " #   Column     Non-Null Count   Dtype  \n",
      "---  ------     --------------   -----  \n",
      " 0   userId     105339 non-null  int64  \n",
      " 1   movieId    105339 non-null  int64  \n",
      " 2   rating     105339 non-null  float64\n",
      " 3   timestamp  105339 non-null  int64  \n",
      "dtypes: float64(1), int64(3)\n",
      "memory usage: 3.2 MB\n"
     ]
    }
   ],
   "source": [
    "# rating information\n",
    "rating.info()"
   ]
  },
  {
   "cell_type": "markdown",
   "metadata": {},
   "source": [
    "`describe()` digunakan untuk mengetahui informasi terkait mean, std, min, quartil, dan max.\n",
    "\n",
    "Dari tabel yang didapatkan, dapat diketahui bahwa dataset `rating`, memiliki minimum rating 0.5 dan maksimum rating 5 yang dapat diberikan oleh penonton. "
   ]
  },
  {
   "cell_type": "code",
   "execution_count": 6,
   "metadata": {},
   "outputs": [
    {
     "data": {
      "text/html": [
       "<div>\n",
       "<style scoped>\n",
       "    .dataframe tbody tr th:only-of-type {\n",
       "        vertical-align: middle;\n",
       "    }\n",
       "\n",
       "    .dataframe tbody tr th {\n",
       "        vertical-align: top;\n",
       "    }\n",
       "\n",
       "    .dataframe thead th {\n",
       "        text-align: right;\n",
       "    }\n",
       "</style>\n",
       "<table border=\"1\" class=\"dataframe\">\n",
       "  <thead>\n",
       "    <tr style=\"text-align: right;\">\n",
       "      <th></th>\n",
       "      <th>userId</th>\n",
       "      <th>movieId</th>\n",
       "      <th>rating</th>\n",
       "      <th>timestamp</th>\n",
       "    </tr>\n",
       "  </thead>\n",
       "  <tbody>\n",
       "    <tr>\n",
       "      <th>count</th>\n",
       "      <td>105339.000000</td>\n",
       "      <td>105339.000000</td>\n",
       "      <td>105339.000000</td>\n",
       "      <td>1.053390e+05</td>\n",
       "    </tr>\n",
       "    <tr>\n",
       "      <th>mean</th>\n",
       "      <td>364.924539</td>\n",
       "      <td>13381.312477</td>\n",
       "      <td>3.516850</td>\n",
       "      <td>1.130424e+09</td>\n",
       "    </tr>\n",
       "    <tr>\n",
       "      <th>std</th>\n",
       "      <td>197.486905</td>\n",
       "      <td>26170.456869</td>\n",
       "      <td>1.044872</td>\n",
       "      <td>1.802660e+08</td>\n",
       "    </tr>\n",
       "    <tr>\n",
       "      <th>min</th>\n",
       "      <td>1.000000</td>\n",
       "      <td>1.000000</td>\n",
       "      <td>0.500000</td>\n",
       "      <td>8.285650e+08</td>\n",
       "    </tr>\n",
       "    <tr>\n",
       "      <th>25%</th>\n",
       "      <td>192.000000</td>\n",
       "      <td>1073.000000</td>\n",
       "      <td>3.000000</td>\n",
       "      <td>9.711008e+08</td>\n",
       "    </tr>\n",
       "    <tr>\n",
       "      <th>50%</th>\n",
       "      <td>383.000000</td>\n",
       "      <td>2497.000000</td>\n",
       "      <td>3.500000</td>\n",
       "      <td>1.115154e+09</td>\n",
       "    </tr>\n",
       "    <tr>\n",
       "      <th>75%</th>\n",
       "      <td>557.000000</td>\n",
       "      <td>5991.000000</td>\n",
       "      <td>4.000000</td>\n",
       "      <td>1.275496e+09</td>\n",
       "    </tr>\n",
       "    <tr>\n",
       "      <th>max</th>\n",
       "      <td>668.000000</td>\n",
       "      <td>149532.000000</td>\n",
       "      <td>5.000000</td>\n",
       "      <td>1.452405e+09</td>\n",
       "    </tr>\n",
       "  </tbody>\n",
       "</table>\n",
       "</div>"
      ],
      "text/plain": [
       "              userId        movieId         rating     timestamp\n",
       "count  105339.000000  105339.000000  105339.000000  1.053390e+05\n",
       "mean      364.924539   13381.312477       3.516850  1.130424e+09\n",
       "std       197.486905   26170.456869       1.044872  1.802660e+08\n",
       "min         1.000000       1.000000       0.500000  8.285650e+08\n",
       "25%       192.000000    1073.000000       3.000000  9.711008e+08\n",
       "50%       383.000000    2497.000000       3.500000  1.115154e+09\n",
       "75%       557.000000    5991.000000       4.000000  1.275496e+09\n",
       "max       668.000000  149532.000000       5.000000  1.452405e+09"
      ]
     },
     "execution_count": 6,
     "metadata": {},
     "output_type": "execute_result"
    }
   ],
   "source": [
    "# describe dataset\n",
    "rating.describe()"
   ]
  },
  {
   "cell_type": "code",
   "execution_count": 10,
   "metadata": {},
   "outputs": [
    {
     "name": "stdout",
     "output_type": "stream",
     "text": [
      "Jumlah judul movie:  10329\n",
      "Jumlah genre movie:  938\n",
      "Jumlah sample rating movie:  668\n"
     ]
    }
   ],
   "source": [
    "print('Jumlah judul movie: ', len(movies.movieId.unique()))\n",
    "print('Jumlah genre movie: ', len(movies.genres.unique()))\n",
    "print('Jumlah sample rating movie: ', len(rating.userId.unique()))"
   ]
  },
  {
   "cell_type": "markdown",
   "metadata": {},
   "source": [
    "`isna()` dilakukan untuk mengetahui apakah ada missing value pada dataset `rating`"
   ]
  },
  {
   "cell_type": "code",
   "execution_count": 11,
   "metadata": {},
   "outputs": [
    {
     "data": {
      "text/plain": [
       "userId       0\n",
       "movieId      0\n",
       "rating       0\n",
       "timestamp    0\n",
       "dtype: int64"
      ]
     },
     "execution_count": 11,
     "metadata": {},
     "output_type": "execute_result"
    }
   ],
   "source": [
    "rating.isna().sum()"
   ]
  },
  {
   "cell_type": "markdown",
   "metadata": {},
   "source": [
    "# Data Preprocessing"
   ]
  },
  {
   "cell_type": "markdown",
   "metadata": {},
   "source": [
    "## Menggabungkan Movie"
   ]
  },
  {
   "cell_type": "markdown",
   "metadata": {},
   "source": [
    "Penggabungan dataset `movies` dan `rating` dilakukan untuk mendapatkan rekomendasi movie. Fungsi `concatenate` akan menggabungkan kedua dataset tersebut berdasarkan fitur `movieId` yang unik."
   ]
  },
  {
   "cell_type": "code",
   "execution_count": 14,
   "metadata": {},
   "outputs": [
    {
     "name": "stdout",
     "output_type": "stream",
     "text": [
      "Jumlah seluruh data movie berdasarkan movieId:  10329\n"
     ]
    }
   ],
   "source": [
    "import numpy as np\n",
    "\n",
    "movies_full = np.concatenate((movies.movieId.unique(),\n",
    "                              rating.movieId.unique()))\n",
    "\n",
    "movies_full = np.sort(np.unique(movies_full))\n",
    "\n",
    "print('Jumlah seluruh data movie berdasarkan movieId: ', len(movies_full))"
   ]
  },
  {
   "cell_type": "markdown",
   "metadata": {},
   "source": [
    "## Jumlah User"
   ]
  },
  {
   "cell_type": "markdown",
   "metadata": {},
   "source": [
    "Mendapatkan jumlah user berdasarkan `userId` yang unik dan kemudian mengurutkannya."
   ]
  },
  {
   "cell_type": "code",
   "execution_count": 15,
   "metadata": {},
   "outputs": [
    {
     "name": "stdout",
     "output_type": "stream",
     "text": [
      "Jumlah seluruh user:  668\n"
     ]
    }
   ],
   "source": [
    "user = rating.userId.unique()\n",
    "user = np.sort(np.unique(user))\n",
    "\n",
    "print('Jumlah seluruh user: ', len(user))"
   ]
  },
  {
   "cell_type": "markdown",
   "metadata": {},
   "source": [
    "## Mengetahui Rating"
   ]
  },
  {
   "cell_type": "markdown",
   "metadata": {},
   "source": [
    "Menggabungkan kedua dataset `rating` dan `movies` ke dalam variable `movie` berdasarkan `movieId`."
   ]
  },
  {
   "cell_type": "code",
   "execution_count": 16,
   "metadata": {},
   "outputs": [
    {
     "data": {
      "text/html": [
       "<div>\n",
       "<style scoped>\n",
       "    .dataframe tbody tr th:only-of-type {\n",
       "        vertical-align: middle;\n",
       "    }\n",
       "\n",
       "    .dataframe tbody tr th {\n",
       "        vertical-align: top;\n",
       "    }\n",
       "\n",
       "    .dataframe thead th {\n",
       "        text-align: right;\n",
       "    }\n",
       "</style>\n",
       "<table border=\"1\" class=\"dataframe\">\n",
       "  <thead>\n",
       "    <tr style=\"text-align: right;\">\n",
       "      <th></th>\n",
       "      <th>userId_x</th>\n",
       "      <th>movieId</th>\n",
       "      <th>rating_x</th>\n",
       "      <th>timestamp_x</th>\n",
       "      <th>userId_y</th>\n",
       "      <th>rating_y</th>\n",
       "      <th>timestamp_y</th>\n",
       "      <th>title</th>\n",
       "      <th>genres</th>\n",
       "    </tr>\n",
       "  </thead>\n",
       "  <tbody>\n",
       "    <tr>\n",
       "      <th>0</th>\n",
       "      <td>1</td>\n",
       "      <td>16</td>\n",
       "      <td>4.0</td>\n",
       "      <td>1217897793</td>\n",
       "      <td>1.0</td>\n",
       "      <td>4.0</td>\n",
       "      <td>1.217898e+09</td>\n",
       "      <td>NaN</td>\n",
       "      <td>NaN</td>\n",
       "    </tr>\n",
       "    <tr>\n",
       "      <th>1</th>\n",
       "      <td>1</td>\n",
       "      <td>16</td>\n",
       "      <td>4.0</td>\n",
       "      <td>1217897793</td>\n",
       "      <td>9.0</td>\n",
       "      <td>4.0</td>\n",
       "      <td>8.426867e+08</td>\n",
       "      <td>NaN</td>\n",
       "      <td>NaN</td>\n",
       "    </tr>\n",
       "    <tr>\n",
       "      <th>2</th>\n",
       "      <td>1</td>\n",
       "      <td>16</td>\n",
       "      <td>4.0</td>\n",
       "      <td>1217897793</td>\n",
       "      <td>12.0</td>\n",
       "      <td>1.5</td>\n",
       "      <td>1.144396e+09</td>\n",
       "      <td>NaN</td>\n",
       "      <td>NaN</td>\n",
       "    </tr>\n",
       "    <tr>\n",
       "      <th>3</th>\n",
       "      <td>1</td>\n",
       "      <td>16</td>\n",
       "      <td>4.0</td>\n",
       "      <td>1217897793</td>\n",
       "      <td>24.0</td>\n",
       "      <td>4.0</td>\n",
       "      <td>9.634688e+08</td>\n",
       "      <td>NaN</td>\n",
       "      <td>NaN</td>\n",
       "    </tr>\n",
       "    <tr>\n",
       "      <th>4</th>\n",
       "      <td>1</td>\n",
       "      <td>16</td>\n",
       "      <td>4.0</td>\n",
       "      <td>1217897793</td>\n",
       "      <td>29.0</td>\n",
       "      <td>3.0</td>\n",
       "      <td>8.368202e+08</td>\n",
       "      <td>NaN</td>\n",
       "      <td>NaN</td>\n",
       "    </tr>\n",
       "    <tr>\n",
       "      <th>...</th>\n",
       "      <td>...</td>\n",
       "      <td>...</td>\n",
       "      <td>...</td>\n",
       "      <td>...</td>\n",
       "      <td>...</td>\n",
       "      <td>...</td>\n",
       "      <td>...</td>\n",
       "      <td>...</td>\n",
       "      <td>...</td>\n",
       "    </tr>\n",
       "    <tr>\n",
       "      <th>6562101</th>\n",
       "      <td>668</td>\n",
       "      <td>144976</td>\n",
       "      <td>2.5</td>\n",
       "      <td>1448656898</td>\n",
       "      <td>NaN</td>\n",
       "      <td>NaN</td>\n",
       "      <td>NaN</td>\n",
       "      <td>Bone Tomahawk (2015)</td>\n",
       "      <td>Horror|Western</td>\n",
       "    </tr>\n",
       "    <tr>\n",
       "      <th>6562102</th>\n",
       "      <td>668</td>\n",
       "      <td>148626</td>\n",
       "      <td>4.5</td>\n",
       "      <td>1451148148</td>\n",
       "      <td>458.0</td>\n",
       "      <td>4.0</td>\n",
       "      <td>1.452015e+09</td>\n",
       "      <td>NaN</td>\n",
       "      <td>NaN</td>\n",
       "    </tr>\n",
       "    <tr>\n",
       "      <th>6562103</th>\n",
       "      <td>668</td>\n",
       "      <td>148626</td>\n",
       "      <td>4.5</td>\n",
       "      <td>1451148148</td>\n",
       "      <td>576.0</td>\n",
       "      <td>4.5</td>\n",
       "      <td>1.451688e+09</td>\n",
       "      <td>NaN</td>\n",
       "      <td>NaN</td>\n",
       "    </tr>\n",
       "    <tr>\n",
       "      <th>6562104</th>\n",
       "      <td>668</td>\n",
       "      <td>148626</td>\n",
       "      <td>4.5</td>\n",
       "      <td>1451148148</td>\n",
       "      <td>668.0</td>\n",
       "      <td>4.5</td>\n",
       "      <td>1.451148e+09</td>\n",
       "      <td>NaN</td>\n",
       "      <td>NaN</td>\n",
       "    </tr>\n",
       "    <tr>\n",
       "      <th>6562105</th>\n",
       "      <td>668</td>\n",
       "      <td>148626</td>\n",
       "      <td>4.5</td>\n",
       "      <td>1451148148</td>\n",
       "      <td>NaN</td>\n",
       "      <td>NaN</td>\n",
       "      <td>NaN</td>\n",
       "      <td>The Big Short (2015)</td>\n",
       "      <td>Drama</td>\n",
       "    </tr>\n",
       "  </tbody>\n",
       "</table>\n",
       "<p>6562106 rows × 9 columns</p>\n",
       "</div>"
      ],
      "text/plain": [
       "         userId_x  movieId  rating_x  timestamp_x  userId_y  rating_y  \\\n",
       "0               1       16       4.0   1217897793       1.0       4.0   \n",
       "1               1       16       4.0   1217897793       9.0       4.0   \n",
       "2               1       16       4.0   1217897793      12.0       1.5   \n",
       "3               1       16       4.0   1217897793      24.0       4.0   \n",
       "4               1       16       4.0   1217897793      29.0       3.0   \n",
       "...           ...      ...       ...          ...       ...       ...   \n",
       "6562101       668   144976       2.5   1448656898       NaN       NaN   \n",
       "6562102       668   148626       4.5   1451148148     458.0       4.0   \n",
       "6562103       668   148626       4.5   1451148148     576.0       4.5   \n",
       "6562104       668   148626       4.5   1451148148     668.0       4.5   \n",
       "6562105       668   148626       4.5   1451148148       NaN       NaN   \n",
       "\n",
       "          timestamp_y                 title          genres  \n",
       "0        1.217898e+09                   NaN             NaN  \n",
       "1        8.426867e+08                   NaN             NaN  \n",
       "2        1.144396e+09                   NaN             NaN  \n",
       "3        9.634688e+08                   NaN             NaN  \n",
       "4        8.368202e+08                   NaN             NaN  \n",
       "...               ...                   ...             ...  \n",
       "6562101           NaN  Bone Tomahawk (2015)  Horror|Western  \n",
       "6562102  1.452015e+09                   NaN             NaN  \n",
       "6562103  1.451688e+09                   NaN             NaN  \n",
       "6562104  1.451148e+09                   NaN             NaN  \n",
       "6562105           NaN  The Big Short (2015)           Drama  \n",
       "\n",
       "[6562106 rows x 9 columns]"
      ]
     },
     "execution_count": 16,
     "metadata": {},
     "output_type": "execute_result"
    }
   ],
   "source": [
    "movie_info = pd.concat([rating, movies])\n",
    "\n",
    "movie = pd.merge(rating, movie_info, on = 'movieId', how = 'left')\n",
    "movie"
   ]
  },
  {
   "cell_type": "markdown",
   "metadata": {},
   "source": [
    "Dapat diketahui bahwa variable `movie` memiliki banyak missing value. `isnull` digunakan untuk mengetahui seberapa banyak missing value yang ada"
   ]
  },
  {
   "cell_type": "code",
   "execution_count": 17,
   "metadata": {},
   "outputs": [
    {
     "data": {
      "text/plain": [
       "userId_x             0\n",
       "movieId              0\n",
       "rating_x             0\n",
       "timestamp_x          0\n",
       "userId_y        105339\n",
       "rating_y        105339\n",
       "timestamp_y     105339\n",
       "title          6456767\n",
       "genres         6456767\n",
       "dtype: int64"
      ]
     },
     "execution_count": 17,
     "metadata": {},
     "output_type": "execute_result"
    }
   ],
   "source": [
    "movie.isnull().sum()"
   ]
  },
  {
   "cell_type": "markdown",
   "metadata": {},
   "source": [
    "Menggabungkan `movie` berdasarkan fitur `movieId`"
   ]
  },
  {
   "cell_type": "code",
   "execution_count": 18,
   "metadata": {},
   "outputs": [
    {
     "data": {
      "text/html": [
       "<div>\n",
       "<style scoped>\n",
       "    .dataframe tbody tr th:only-of-type {\n",
       "        vertical-align: middle;\n",
       "    }\n",
       "\n",
       "    .dataframe tbody tr th {\n",
       "        vertical-align: top;\n",
       "    }\n",
       "\n",
       "    .dataframe thead th {\n",
       "        text-align: right;\n",
       "    }\n",
       "</style>\n",
       "<table border=\"1\" class=\"dataframe\">\n",
       "  <thead>\n",
       "    <tr style=\"text-align: right;\">\n",
       "      <th></th>\n",
       "      <th>userId_x</th>\n",
       "      <th>rating_x</th>\n",
       "      <th>timestamp_x</th>\n",
       "      <th>userId_y</th>\n",
       "      <th>rating_y</th>\n",
       "      <th>timestamp_y</th>\n",
       "    </tr>\n",
       "    <tr>\n",
       "      <th>movieId</th>\n",
       "      <th></th>\n",
       "      <th></th>\n",
       "      <th></th>\n",
       "      <th></th>\n",
       "      <th></th>\n",
       "      <th></th>\n",
       "    </tr>\n",
       "  </thead>\n",
       "  <tbody>\n",
       "    <tr>\n",
       "      <th>1</th>\n",
       "      <td>18144642</td>\n",
       "      <td>211214.5</td>\n",
       "      <td>58348594457940</td>\n",
       "      <td>18066768.0</td>\n",
       "      <td>210308.0</td>\n",
       "      <td>5.809817e+13</td>\n",
       "    </tr>\n",
       "    <tr>\n",
       "      <th>2</th>\n",
       "      <td>2893416</td>\n",
       "      <td>28690.5</td>\n",
       "      <td>9196943406591</td>\n",
       "      <td>2862304.0</td>\n",
       "      <td>28382.0</td>\n",
       "      <td>9.098052e+12</td>\n",
       "    </tr>\n",
       "    <tr>\n",
       "      <th>3</th>\n",
       "      <td>1026541</td>\n",
       "      <td>10915.0</td>\n",
       "      <td>3233596255210</td>\n",
       "      <td>1009142.0</td>\n",
       "      <td>10730.0</td>\n",
       "      <td>3.178790e+12</td>\n",
       "    </tr>\n",
       "    <tr>\n",
       "      <th>4</th>\n",
       "      <td>45240</td>\n",
       "      <td>372.0</td>\n",
       "      <td>127234077648</td>\n",
       "      <td>41470.0</td>\n",
       "      <td>341.0</td>\n",
       "      <td>1.166312e+11</td>\n",
       "    </tr>\n",
       "    <tr>\n",
       "      <th>5</th>\n",
       "      <td>1112517</td>\n",
       "      <td>12694.5</td>\n",
       "      <td>3849404128038</td>\n",
       "      <td>1094858.0</td>\n",
       "      <td>12493.0</td>\n",
       "      <td>3.788302e+12</td>\n",
       "    </tr>\n",
       "    <tr>\n",
       "      <th>...</th>\n",
       "      <td>...</td>\n",
       "      <td>...</td>\n",
       "      <td>...</td>\n",
       "      <td>...</td>\n",
       "      <td>...</td>\n",
       "      <td>...</td>\n",
       "    </tr>\n",
       "    <tr>\n",
       "      <th>146684</th>\n",
       "      <td>1244</td>\n",
       "      <td>8.0</td>\n",
       "      <td>2894913108</td>\n",
       "      <td>622.0</td>\n",
       "      <td>4.0</td>\n",
       "      <td>1.447457e+09</td>\n",
       "    </tr>\n",
       "    <tr>\n",
       "      <th>146878</th>\n",
       "      <td>1244</td>\n",
       "      <td>5.0</td>\n",
       "      <td>2895029274</td>\n",
       "      <td>622.0</td>\n",
       "      <td>2.5</td>\n",
       "      <td>1.447515e+09</td>\n",
       "    </tr>\n",
       "    <tr>\n",
       "      <th>148238</th>\n",
       "      <td>950</td>\n",
       "      <td>6.0</td>\n",
       "      <td>2902426086</td>\n",
       "      <td>475.0</td>\n",
       "      <td>3.0</td>\n",
       "      <td>1.451213e+09</td>\n",
       "    </tr>\n",
       "    <tr>\n",
       "      <th>148626</th>\n",
       "      <td>6808</td>\n",
       "      <td>52.0</td>\n",
       "      <td>17419402244</td>\n",
       "      <td>5106.0</td>\n",
       "      <td>39.0</td>\n",
       "      <td>1.306455e+10</td>\n",
       "    </tr>\n",
       "    <tr>\n",
       "      <th>149532</th>\n",
       "      <td>950</td>\n",
       "      <td>8.0</td>\n",
       "      <td>2902446858</td>\n",
       "      <td>475.0</td>\n",
       "      <td>4.0</td>\n",
       "      <td>1.451223e+09</td>\n",
       "    </tr>\n",
       "  </tbody>\n",
       "</table>\n",
       "<p>10325 rows × 6 columns</p>\n",
       "</div>"
      ],
      "text/plain": [
       "         userId_x  rating_x     timestamp_x    userId_y  rating_y  \\\n",
       "movieId                                                             \n",
       "1        18144642  211214.5  58348594457940  18066768.0  210308.0   \n",
       "2         2893416   28690.5   9196943406591   2862304.0   28382.0   \n",
       "3         1026541   10915.0   3233596255210   1009142.0   10730.0   \n",
       "4           45240     372.0    127234077648     41470.0     341.0   \n",
       "5         1112517   12694.5   3849404128038   1094858.0   12493.0   \n",
       "...           ...       ...             ...         ...       ...   \n",
       "146684       1244       8.0      2894913108       622.0       4.0   \n",
       "146878       1244       5.0      2895029274       622.0       2.5   \n",
       "148238        950       6.0      2902426086       475.0       3.0   \n",
       "148626       6808      52.0     17419402244      5106.0      39.0   \n",
       "149532        950       8.0      2902446858       475.0       4.0   \n",
       "\n",
       "          timestamp_y  \n",
       "movieId                \n",
       "1        5.809817e+13  \n",
       "2        9.098052e+12  \n",
       "3        3.178790e+12  \n",
       "4        1.166312e+11  \n",
       "5        3.788302e+12  \n",
       "...               ...  \n",
       "146684   1.447457e+09  \n",
       "146878   1.447515e+09  \n",
       "148238   1.451213e+09  \n",
       "148626   1.306455e+10  \n",
       "149532   1.451223e+09  \n",
       "\n",
       "[10325 rows x 6 columns]"
      ]
     },
     "execution_count": 18,
     "metadata": {},
     "output_type": "execute_result"
    }
   ],
   "source": [
    "movie.groupby('movieId').sum()"
   ]
  },
  {
   "cell_type": "markdown",
   "metadata": {},
   "source": [
    "## Menggabungkan data dengan fitur Movie"
   ]
  },
  {
   "cell_type": "markdown",
   "metadata": {},
   "source": [
    "Menggabungkan dataset `rating` dan `movies` menjadi `all_movie` berdasarkan `movieId`"
   ]
  },
  {
   "cell_type": "code",
   "execution_count": 22,
   "metadata": {},
   "outputs": [
    {
     "data": {
      "text/html": [
       "<div>\n",
       "<style scoped>\n",
       "    .dataframe tbody tr th:only-of-type {\n",
       "        vertical-align: middle;\n",
       "    }\n",
       "\n",
       "    .dataframe tbody tr th {\n",
       "        vertical-align: top;\n",
       "    }\n",
       "\n",
       "    .dataframe thead th {\n",
       "        text-align: right;\n",
       "    }\n",
       "</style>\n",
       "<table border=\"1\" class=\"dataframe\">\n",
       "  <thead>\n",
       "    <tr style=\"text-align: right;\">\n",
       "      <th></th>\n",
       "      <th>userId</th>\n",
       "      <th>movieId</th>\n",
       "      <th>rating</th>\n",
       "      <th>timestamp</th>\n",
       "      <th>title</th>\n",
       "      <th>genres</th>\n",
       "    </tr>\n",
       "  </thead>\n",
       "  <tbody>\n",
       "    <tr>\n",
       "      <th>0</th>\n",
       "      <td>1</td>\n",
       "      <td>16</td>\n",
       "      <td>4.0</td>\n",
       "      <td>1217897793</td>\n",
       "      <td>Casino (1995)</td>\n",
       "      <td>Crime|Drama</td>\n",
       "    </tr>\n",
       "    <tr>\n",
       "      <th>1</th>\n",
       "      <td>1</td>\n",
       "      <td>24</td>\n",
       "      <td>1.5</td>\n",
       "      <td>1217895807</td>\n",
       "      <td>Powder (1995)</td>\n",
       "      <td>Drama|Sci-Fi</td>\n",
       "    </tr>\n",
       "    <tr>\n",
       "      <th>2</th>\n",
       "      <td>1</td>\n",
       "      <td>32</td>\n",
       "      <td>4.0</td>\n",
       "      <td>1217896246</td>\n",
       "      <td>Twelve Monkeys (a.k.a. 12 Monkeys) (1995)</td>\n",
       "      <td>Mystery|Sci-Fi|Thriller</td>\n",
       "    </tr>\n",
       "    <tr>\n",
       "      <th>3</th>\n",
       "      <td>1</td>\n",
       "      <td>47</td>\n",
       "      <td>4.0</td>\n",
       "      <td>1217896556</td>\n",
       "      <td>Seven (a.k.a. Se7en) (1995)</td>\n",
       "      <td>Mystery|Thriller</td>\n",
       "    </tr>\n",
       "    <tr>\n",
       "      <th>4</th>\n",
       "      <td>1</td>\n",
       "      <td>50</td>\n",
       "      <td>4.0</td>\n",
       "      <td>1217896523</td>\n",
       "      <td>Usual Suspects, The (1995)</td>\n",
       "      <td>Crime|Mystery|Thriller</td>\n",
       "    </tr>\n",
       "    <tr>\n",
       "      <th>...</th>\n",
       "      <td>...</td>\n",
       "      <td>...</td>\n",
       "      <td>...</td>\n",
       "      <td>...</td>\n",
       "      <td>...</td>\n",
       "      <td>...</td>\n",
       "    </tr>\n",
       "    <tr>\n",
       "      <th>105334</th>\n",
       "      <td>668</td>\n",
       "      <td>142488</td>\n",
       "      <td>4.0</td>\n",
       "      <td>1451535844</td>\n",
       "      <td>Spotlight (2015)</td>\n",
       "      <td>Thriller</td>\n",
       "    </tr>\n",
       "    <tr>\n",
       "      <th>105335</th>\n",
       "      <td>668</td>\n",
       "      <td>142507</td>\n",
       "      <td>3.5</td>\n",
       "      <td>1451535889</td>\n",
       "      <td>Pawn Sacrifice (2015)</td>\n",
       "      <td>Drama</td>\n",
       "    </tr>\n",
       "    <tr>\n",
       "      <th>105336</th>\n",
       "      <td>668</td>\n",
       "      <td>143385</td>\n",
       "      <td>4.0</td>\n",
       "      <td>1446388585</td>\n",
       "      <td>Bridge of Spies (2015)</td>\n",
       "      <td>Drama|Thriller</td>\n",
       "    </tr>\n",
       "    <tr>\n",
       "      <th>105337</th>\n",
       "      <td>668</td>\n",
       "      <td>144976</td>\n",
       "      <td>2.5</td>\n",
       "      <td>1448656898</td>\n",
       "      <td>Bone Tomahawk (2015)</td>\n",
       "      <td>Horror|Western</td>\n",
       "    </tr>\n",
       "    <tr>\n",
       "      <th>105338</th>\n",
       "      <td>668</td>\n",
       "      <td>148626</td>\n",
       "      <td>4.5</td>\n",
       "      <td>1451148148</td>\n",
       "      <td>The Big Short (2015)</td>\n",
       "      <td>Drama</td>\n",
       "    </tr>\n",
       "  </tbody>\n",
       "</table>\n",
       "<p>105339 rows × 6 columns</p>\n",
       "</div>"
      ],
      "text/plain": [
       "        userId  movieId  rating   timestamp  \\\n",
       "0            1       16     4.0  1217897793   \n",
       "1            1       24     1.5  1217895807   \n",
       "2            1       32     4.0  1217896246   \n",
       "3            1       47     4.0  1217896556   \n",
       "4            1       50     4.0  1217896523   \n",
       "...        ...      ...     ...         ...   \n",
       "105334     668   142488     4.0  1451535844   \n",
       "105335     668   142507     3.5  1451535889   \n",
       "105336     668   143385     4.0  1446388585   \n",
       "105337     668   144976     2.5  1448656898   \n",
       "105338     668   148626     4.5  1451148148   \n",
       "\n",
       "                                            title                   genres  \n",
       "0                                   Casino (1995)              Crime|Drama  \n",
       "1                                   Powder (1995)             Drama|Sci-Fi  \n",
       "2       Twelve Monkeys (a.k.a. 12 Monkeys) (1995)  Mystery|Sci-Fi|Thriller  \n",
       "3                     Seven (a.k.a. Se7en) (1995)         Mystery|Thriller  \n",
       "4                      Usual Suspects, The (1995)   Crime|Mystery|Thriller  \n",
       "...                                           ...                      ...  \n",
       "105334                           Spotlight (2015)                 Thriller  \n",
       "105335                      Pawn Sacrifice (2015)                    Drama  \n",
       "105336                     Bridge of Spies (2015)           Drama|Thriller  \n",
       "105337                       Bone Tomahawk (2015)           Horror|Western  \n",
       "105338                       The Big Short (2015)                    Drama  \n",
       "\n",
       "[105339 rows x 6 columns]"
      ]
     },
     "execution_count": 22,
     "metadata": {},
     "output_type": "execute_result"
    }
   ],
   "source": [
    "all_movie = pd.merge(rating, movies, on = 'movieId', how = 'left')\n",
    "all_movie"
   ]
  },
  {
   "cell_type": "markdown",
   "metadata": {},
   "source": [
    "# Handling Missing Value"
   ]
  },
  {
   "cell_type": "markdown",
   "metadata": {},
   "source": [
    "Mengetahui apakah ada dataset yang kosong (missing value). Dapat diketahui bahwa tidak ada dataset yang kosong"
   ]
  },
  {
   "cell_type": "code",
   "execution_count": 25,
   "metadata": {},
   "outputs": [
    {
     "data": {
      "text/plain": [
       "userId       0\n",
       "movieId      0\n",
       "rating       0\n",
       "timestamp    0\n",
       "title        0\n",
       "genres       0\n",
       "dtype: int64"
      ]
     },
     "execution_count": 25,
     "metadata": {},
     "output_type": "execute_result"
    }
   ],
   "source": [
    "all_movie.isnull().sum()"
   ]
  },
  {
   "cell_type": "markdown",
   "metadata": {},
   "source": [
    "Melakukan pengurutan berdasarkan `movieId`"
   ]
  },
  {
   "cell_type": "code",
   "execution_count": 26,
   "metadata": {},
   "outputs": [
    {
     "data": {
      "text/html": [
       "<div>\n",
       "<style scoped>\n",
       "    .dataframe tbody tr th:only-of-type {\n",
       "        vertical-align: middle;\n",
       "    }\n",
       "\n",
       "    .dataframe tbody tr th {\n",
       "        vertical-align: top;\n",
       "    }\n",
       "\n",
       "    .dataframe thead th {\n",
       "        text-align: right;\n",
       "    }\n",
       "</style>\n",
       "<table border=\"1\" class=\"dataframe\">\n",
       "  <thead>\n",
       "    <tr style=\"text-align: right;\">\n",
       "      <th></th>\n",
       "      <th>userId</th>\n",
       "      <th>movieId</th>\n",
       "      <th>rating</th>\n",
       "      <th>timestamp</th>\n",
       "      <th>title</th>\n",
       "      <th>genres</th>\n",
       "    </tr>\n",
       "  </thead>\n",
       "  <tbody>\n",
       "    <tr>\n",
       "      <th>19960</th>\n",
       "      <td>158</td>\n",
       "      <td>1</td>\n",
       "      <td>4.5</td>\n",
       "      <td>1241296244</td>\n",
       "      <td>Toy Story (1995)</td>\n",
       "      <td>Adventure|Animation|Children|Comedy|Fantasy</td>\n",
       "    </tr>\n",
       "    <tr>\n",
       "      <th>76418</th>\n",
       "      <td>536</td>\n",
       "      <td>1</td>\n",
       "      <td>3.0</td>\n",
       "      <td>860417689</td>\n",
       "      <td>Toy Story (1995)</td>\n",
       "      <td>Adventure|Animation|Children|Comedy|Fantasy</td>\n",
       "    </tr>\n",
       "    <tr>\n",
       "      <th>76243</th>\n",
       "      <td>534</td>\n",
       "      <td>1</td>\n",
       "      <td>4.0</td>\n",
       "      <td>916850069</td>\n",
       "      <td>Toy Story (1995)</td>\n",
       "      <td>Adventure|Animation|Children|Comedy|Fantasy</td>\n",
       "    </tr>\n",
       "    <tr>\n",
       "      <th>76000</th>\n",
       "      <td>532</td>\n",
       "      <td>1</td>\n",
       "      <td>3.0</td>\n",
       "      <td>1440345516</td>\n",
       "      <td>Toy Story (1995)</td>\n",
       "      <td>Adventure|Animation|Children|Comedy|Fantasy</td>\n",
       "    </tr>\n",
       "    <tr>\n",
       "      <th>75826</th>\n",
       "      <td>531</td>\n",
       "      <td>1</td>\n",
       "      <td>5.0</td>\n",
       "      <td>1447661542</td>\n",
       "      <td>Toy Story (1995)</td>\n",
       "      <td>Adventure|Animation|Children|Comedy|Fantasy</td>\n",
       "    </tr>\n",
       "    <tr>\n",
       "      <th>...</th>\n",
       "      <td>...</td>\n",
       "      <td>...</td>\n",
       "      <td>...</td>\n",
       "      <td>...</td>\n",
       "      <td>...</td>\n",
       "      <td>...</td>\n",
       "    </tr>\n",
       "    <tr>\n",
       "      <th>70603</th>\n",
       "      <td>475</td>\n",
       "      <td>148238</td>\n",
       "      <td>3.0</td>\n",
       "      <td>1451213043</td>\n",
       "      <td>A Very Murray Christmas (2015)</td>\n",
       "      <td>Comedy</td>\n",
       "    </tr>\n",
       "    <tr>\n",
       "      <th>66814</th>\n",
       "      <td>458</td>\n",
       "      <td>148626</td>\n",
       "      <td>4.0</td>\n",
       "      <td>1452014749</td>\n",
       "      <td>The Big Short (2015)</td>\n",
       "      <td>Drama</td>\n",
       "    </tr>\n",
       "    <tr>\n",
       "      <th>86152</th>\n",
       "      <td>576</td>\n",
       "      <td>148626</td>\n",
       "      <td>4.5</td>\n",
       "      <td>1451687664</td>\n",
       "      <td>The Big Short (2015)</td>\n",
       "      <td>Drama</td>\n",
       "    </tr>\n",
       "    <tr>\n",
       "      <th>105338</th>\n",
       "      <td>668</td>\n",
       "      <td>148626</td>\n",
       "      <td>4.5</td>\n",
       "      <td>1451148148</td>\n",
       "      <td>The Big Short (2015)</td>\n",
       "      <td>Drama</td>\n",
       "    </tr>\n",
       "    <tr>\n",
       "      <th>70604</th>\n",
       "      <td>475</td>\n",
       "      <td>149532</td>\n",
       "      <td>4.0</td>\n",
       "      <td>1451223429</td>\n",
       "      <td>Marco Polo: One Hundred Eyes (2015)</td>\n",
       "      <td>(no genres listed)</td>\n",
       "    </tr>\n",
       "  </tbody>\n",
       "</table>\n",
       "<p>105339 rows × 6 columns</p>\n",
       "</div>"
      ],
      "text/plain": [
       "        userId  movieId  rating   timestamp  \\\n",
       "19960      158        1     4.5  1241296244   \n",
       "76418      536        1     3.0   860417689   \n",
       "76243      534        1     4.0   916850069   \n",
       "76000      532        1     3.0  1440345516   \n",
       "75826      531        1     5.0  1447661542   \n",
       "...        ...      ...     ...         ...   \n",
       "70603      475   148238     3.0  1451213043   \n",
       "66814      458   148626     4.0  1452014749   \n",
       "86152      576   148626     4.5  1451687664   \n",
       "105338     668   148626     4.5  1451148148   \n",
       "70604      475   149532     4.0  1451223429   \n",
       "\n",
       "                                      title  \\\n",
       "19960                      Toy Story (1995)   \n",
       "76418                      Toy Story (1995)   \n",
       "76243                      Toy Story (1995)   \n",
       "76000                      Toy Story (1995)   \n",
       "75826                      Toy Story (1995)   \n",
       "...                                     ...   \n",
       "70603        A Very Murray Christmas (2015)   \n",
       "66814                  The Big Short (2015)   \n",
       "86152                  The Big Short (2015)   \n",
       "105338                 The Big Short (2015)   \n",
       "70604   Marco Polo: One Hundred Eyes (2015)   \n",
       "\n",
       "                                             genres  \n",
       "19960   Adventure|Animation|Children|Comedy|Fantasy  \n",
       "76418   Adventure|Animation|Children|Comedy|Fantasy  \n",
       "76243   Adventure|Animation|Children|Comedy|Fantasy  \n",
       "76000   Adventure|Animation|Children|Comedy|Fantasy  \n",
       "75826   Adventure|Animation|Children|Comedy|Fantasy  \n",
       "...                                             ...  \n",
       "70603                                        Comedy  \n",
       "66814                                         Drama  \n",
       "86152                                         Drama  \n",
       "105338                                        Drama  \n",
       "70604                            (no genres listed)  \n",
       "\n",
       "[105339 rows x 6 columns]"
      ]
     },
     "execution_count": 26,
     "metadata": {},
     "output_type": "execute_result"
    }
   ],
   "source": [
    "all_movie = all_movie.sort_values('movieId', ascending=True)\n",
    "all_movie"
   ]
  },
  {
   "cell_type": "markdown",
   "metadata": {},
   "source": [
    "Mengecek berapa jumlah movies berdasarkan `movieId`"
   ]
  },
  {
   "cell_type": "code",
   "execution_count": 27,
   "metadata": {},
   "outputs": [
    {
     "data": {
      "text/plain": [
       "10325"
      ]
     },
     "execution_count": 27,
     "metadata": {},
     "output_type": "execute_result"
    }
   ],
   "source": [
    "len(all_movie.movieId.unique())"
   ]
  },
  {
   "cell_type": "markdown",
   "metadata": {},
   "source": [
    "Mengecek jumlah data terduplikasi data terhadap `movieId` "
   ]
  },
  {
   "cell_type": "code",
   "execution_count": 23,
   "metadata": {},
   "outputs": [
    {
     "data": {
      "text/plain": [
       "95014"
      ]
     },
     "execution_count": 23,
     "metadata": {},
     "output_type": "execute_result"
    }
   ],
   "source": [
    "all_movie['movieId'].duplicated().sum()"
   ]
  },
  {
   "cell_type": "markdown",
   "metadata": {},
   "source": [
    "Membuang data terduplikasi berdasarkan `movieId`"
   ]
  },
  {
   "cell_type": "code",
   "execution_count": 24,
   "metadata": {},
   "outputs": [
    {
     "data": {
      "text/plain": [
       "10325"
      ]
     },
     "execution_count": 24,
     "metadata": {},
     "output_type": "execute_result"
    }
   ],
   "source": [
    "all_movie = all_movie.drop_duplicates('movieId')\n",
    "len(all_movie['movieId'])"
   ]
  },
  {
   "cell_type": "markdown",
   "metadata": {},
   "source": [
    "Membuat dictionary terhadap dataset yang telah disiapkan sebelumnya"
   ]
  },
  {
   "cell_type": "code",
   "execution_count": 25,
   "metadata": {},
   "outputs": [
    {
     "data": {
      "text/html": [
       "<div>\n",
       "<style scoped>\n",
       "    .dataframe tbody tr th:only-of-type {\n",
       "        vertical-align: middle;\n",
       "    }\n",
       "\n",
       "    .dataframe tbody tr th {\n",
       "        vertical-align: top;\n",
       "    }\n",
       "\n",
       "    .dataframe thead th {\n",
       "        text-align: right;\n",
       "    }\n",
       "</style>\n",
       "<table border=\"1\" class=\"dataframe\">\n",
       "  <thead>\n",
       "    <tr style=\"text-align: right;\">\n",
       "      <th></th>\n",
       "      <th>id</th>\n",
       "      <th>title</th>\n",
       "      <th>genre</th>\n",
       "    </tr>\n",
       "  </thead>\n",
       "  <tbody>\n",
       "    <tr>\n",
       "      <th>0</th>\n",
       "      <td>16</td>\n",
       "      <td>Casino (1995)</td>\n",
       "      <td>Crime|Drama</td>\n",
       "    </tr>\n",
       "    <tr>\n",
       "      <th>1</th>\n",
       "      <td>24</td>\n",
       "      <td>Powder (1995)</td>\n",
       "      <td>Drama|Sci-Fi</td>\n",
       "    </tr>\n",
       "    <tr>\n",
       "      <th>2</th>\n",
       "      <td>32</td>\n",
       "      <td>Twelve Monkeys (a.k.a. 12 Monkeys) (1995)</td>\n",
       "      <td>Mystery|Sci-Fi|Thriller</td>\n",
       "    </tr>\n",
       "  </tbody>\n",
       "</table>\n",
       "</div>"
      ],
      "text/plain": [
       "   id                                      title                    genre\n",
       "0  16                              Casino (1995)              Crime|Drama\n",
       "1  24                              Powder (1995)             Drama|Sci-Fi\n",
       "2  32  Twelve Monkeys (a.k.a. 12 Monkeys) (1995)  Mystery|Sci-Fi|Thriller"
      ]
     },
     "execution_count": 25,
     "metadata": {},
     "output_type": "execute_result"
    }
   ],
   "source": [
    "movie_fix = pd.DataFrame({'id': all_movie['movieId'],\n",
    "                          'title': all_movie['title'],\n",
    "                          'genre': all_movie['genres']})\n",
    "\n",
    "movie_fix.head(3)"
   ]
  },
  {
   "cell_type": "markdown",
   "metadata": {},
   "source": [
    "# Modeling"
   ]
  },
  {
   "cell_type": "markdown",
   "metadata": {},
   "source": [
    "## Content Based Filtering"
   ]
  },
  {
   "cell_type": "markdown",
   "metadata": {},
   "source": [
    "Content Based Filtering dilakukan dengan membuat algoritma untuk mengetahui rekomendasi berdasarkan _history_ user."
   ]
  },
  {
   "cell_type": "markdown",
   "metadata": {},
   "source": [
    "Digunakan `Tfidfvectorizer` untuk melakukan perhitungan _idf_ pada `genre` dan melakukan mapping array."
   ]
  },
  {
   "cell_type": "code",
   "execution_count": 26,
   "metadata": {},
   "outputs": [
    {
     "data": {
      "text/plain": [
       "['action',\n",
       " 'adventure',\n",
       " 'animation',\n",
       " 'children',\n",
       " 'comedy',\n",
       " 'crime',\n",
       " 'documentary',\n",
       " 'drama',\n",
       " 'fantasy',\n",
       " 'fi',\n",
       " 'film',\n",
       " 'genres',\n",
       " 'horror',\n",
       " 'imax',\n",
       " 'listed',\n",
       " 'musical',\n",
       " 'mystery',\n",
       " 'no',\n",
       " 'noir',\n",
       " 'romance',\n",
       " 'sci',\n",
       " 'thriller',\n",
       " 'war',\n",
       " 'western']"
      ]
     },
     "execution_count": 26,
     "metadata": {},
     "output_type": "execute_result"
    }
   ],
   "source": [
    "from sklearn.feature_extraction.text import TfidfVectorizer\n",
    "\n",
    "tfidf = TfidfVectorizer()\n",
    "tfidf.fit(movie_fix['genre'])\n",
    "tfidf.get_feature_names()"
   ]
  },
  {
   "cell_type": "markdown",
   "metadata": {},
   "source": [
    "Melakukan `fit_transform` untuk mendapatkan bentuk matrix"
   ]
  },
  {
   "cell_type": "code",
   "execution_count": 27,
   "metadata": {},
   "outputs": [
    {
     "data": {
      "text/plain": [
       "(10325, 24)"
      ]
     },
     "execution_count": 27,
     "metadata": {},
     "output_type": "execute_result"
    }
   ],
   "source": [
    "tfidf_mtx = tfidf.fit_transform(movie_fix['genre'])\n",
    "tfidf_mtx.shape"
   ]
  },
  {
   "cell_type": "markdown",
   "metadata": {},
   "source": [
    "Hasil dari matrix yang sebelumnya dibuat dapat dilihat dengan `todense()`"
   ]
  },
  {
   "cell_type": "code",
   "execution_count": 28,
   "metadata": {},
   "outputs": [
    {
     "data": {
      "text/plain": [
       "matrix([[0.        , 0.        , 0.        , ..., 0.        , 0.        ,\n",
       "         0.        ],\n",
       "        [0.        , 0.        , 0.        , ..., 0.        , 0.        ,\n",
       "         0.        ],\n",
       "        [0.        , 0.        , 0.        , ..., 0.38168544, 0.        ,\n",
       "         0.        ],\n",
       "        ...,\n",
       "        [0.        , 0.        , 0.        , ..., 0.        , 0.        ,\n",
       "         0.        ],\n",
       "        [0.        , 0.        , 0.        , ..., 1.        , 0.        ,\n",
       "         0.        ],\n",
       "        [0.        , 0.        , 0.        , ..., 0.        , 0.        ,\n",
       "         0.        ]])"
      ]
     },
     "execution_count": 28,
     "metadata": {},
     "output_type": "execute_result"
    }
   ],
   "source": [
    "tfidf_mtx.todense()"
   ]
  },
  {
   "cell_type": "markdown",
   "metadata": {},
   "source": [
    "Melihat tf-idf untuk movie berdasarkan genre yang telah spesifik"
   ]
  },
  {
   "cell_type": "code",
   "execution_count": 29,
   "metadata": {},
   "outputs": [
    {
     "data": {
      "text/html": [
       "<div>\n",
       "<style scoped>\n",
       "    .dataframe tbody tr th:only-of-type {\n",
       "        vertical-align: middle;\n",
       "    }\n",
       "\n",
       "    .dataframe tbody tr th {\n",
       "        vertical-align: top;\n",
       "    }\n",
       "\n",
       "    .dataframe thead th {\n",
       "        text-align: right;\n",
       "    }\n",
       "</style>\n",
       "<table border=\"1\" class=\"dataframe\">\n",
       "  <thead>\n",
       "    <tr style=\"text-align: right;\">\n",
       "      <th></th>\n",
       "      <th>horror</th>\n",
       "      <th>action</th>\n",
       "      <th>film</th>\n",
       "      <th>adventure</th>\n",
       "      <th>animation</th>\n",
       "      <th>comedy</th>\n",
       "      <th>listed</th>\n",
       "      <th>imax</th>\n",
       "      <th>romance</th>\n",
       "      <th>mystery</th>\n",
       "      <th>...</th>\n",
       "      <th>thriller</th>\n",
       "      <th>crime</th>\n",
       "      <th>fantasy</th>\n",
       "      <th>genres</th>\n",
       "      <th>war</th>\n",
       "      <th>no</th>\n",
       "      <th>drama</th>\n",
       "      <th>noir</th>\n",
       "      <th>western</th>\n",
       "      <th>documentary</th>\n",
       "    </tr>\n",
       "    <tr>\n",
       "      <th>title</th>\n",
       "      <th></th>\n",
       "      <th></th>\n",
       "      <th></th>\n",
       "      <th></th>\n",
       "      <th></th>\n",
       "      <th></th>\n",
       "      <th></th>\n",
       "      <th></th>\n",
       "      <th></th>\n",
       "      <th></th>\n",
       "      <th></th>\n",
       "      <th></th>\n",
       "      <th></th>\n",
       "      <th></th>\n",
       "      <th></th>\n",
       "      <th></th>\n",
       "      <th></th>\n",
       "      <th></th>\n",
       "      <th></th>\n",
       "      <th></th>\n",
       "      <th></th>\n",
       "    </tr>\n",
       "  </thead>\n",
       "  <tbody>\n",
       "    <tr>\n",
       "      <th>Red Cliff (Chi bi) (2008)</th>\n",
       "      <td>0.000000</td>\n",
       "      <td>0.458255</td>\n",
       "      <td>0.0</td>\n",
       "      <td>0.524148</td>\n",
       "      <td>0.0</td>\n",
       "      <td>0.0</td>\n",
       "      <td>0.0</td>\n",
       "      <td>0.0</td>\n",
       "      <td>0.000000</td>\n",
       "      <td>0.0</td>\n",
       "      <td>...</td>\n",
       "      <td>0.000000</td>\n",
       "      <td>0.00000</td>\n",
       "      <td>0.0</td>\n",
       "      <td>0.0</td>\n",
       "      <td>0.662172</td>\n",
       "      <td>0.0</td>\n",
       "      <td>0.277128</td>\n",
       "      <td>0.0</td>\n",
       "      <td>0.0</td>\n",
       "      <td>0.0</td>\n",
       "    </tr>\n",
       "    <tr>\n",
       "      <th>Face in the Crowd, A (1957)</th>\n",
       "      <td>0.000000</td>\n",
       "      <td>0.000000</td>\n",
       "      <td>0.0</td>\n",
       "      <td>0.000000</td>\n",
       "      <td>0.0</td>\n",
       "      <td>0.0</td>\n",
       "      <td>0.0</td>\n",
       "      <td>0.0</td>\n",
       "      <td>0.000000</td>\n",
       "      <td>0.0</td>\n",
       "      <td>...</td>\n",
       "      <td>0.000000</td>\n",
       "      <td>0.00000</td>\n",
       "      <td>0.0</td>\n",
       "      <td>0.0</td>\n",
       "      <td>0.000000</td>\n",
       "      <td>0.0</td>\n",
       "      <td>1.000000</td>\n",
       "      <td>0.0</td>\n",
       "      <td>0.0</td>\n",
       "      <td>0.0</td>\n",
       "    </tr>\n",
       "    <tr>\n",
       "      <th>Once a Thief (1965)</th>\n",
       "      <td>0.000000</td>\n",
       "      <td>0.000000</td>\n",
       "      <td>0.0</td>\n",
       "      <td>0.000000</td>\n",
       "      <td>0.0</td>\n",
       "      <td>0.0</td>\n",
       "      <td>0.0</td>\n",
       "      <td>0.0</td>\n",
       "      <td>0.000000</td>\n",
       "      <td>0.0</td>\n",
       "      <td>...</td>\n",
       "      <td>0.598809</td>\n",
       "      <td>0.69682</td>\n",
       "      <td>0.0</td>\n",
       "      <td>0.0</td>\n",
       "      <td>0.000000</td>\n",
       "      <td>0.0</td>\n",
       "      <td>0.394804</td>\n",
       "      <td>0.0</td>\n",
       "      <td>0.0</td>\n",
       "      <td>0.0</td>\n",
       "    </tr>\n",
       "    <tr>\n",
       "      <th>Exorcist: The Beginning (2004)</th>\n",
       "      <td>0.793994</td>\n",
       "      <td>0.000000</td>\n",
       "      <td>0.0</td>\n",
       "      <td>0.000000</td>\n",
       "      <td>0.0</td>\n",
       "      <td>0.0</td>\n",
       "      <td>0.0</td>\n",
       "      <td>0.0</td>\n",
       "      <td>0.000000</td>\n",
       "      <td>0.0</td>\n",
       "      <td>...</td>\n",
       "      <td>0.607926</td>\n",
       "      <td>0.00000</td>\n",
       "      <td>0.0</td>\n",
       "      <td>0.0</td>\n",
       "      <td>0.000000</td>\n",
       "      <td>0.0</td>\n",
       "      <td>0.000000</td>\n",
       "      <td>0.0</td>\n",
       "      <td>0.0</td>\n",
       "      <td>0.0</td>\n",
       "    </tr>\n",
       "    <tr>\n",
       "      <th>Night of the Living Dead (1968)</th>\n",
       "      <td>0.514763</td>\n",
       "      <td>0.000000</td>\n",
       "      <td>0.0</td>\n",
       "      <td>0.000000</td>\n",
       "      <td>0.0</td>\n",
       "      <td>0.0</td>\n",
       "      <td>0.0</td>\n",
       "      <td>0.0</td>\n",
       "      <td>0.000000</td>\n",
       "      <td>0.0</td>\n",
       "      <td>...</td>\n",
       "      <td>0.394131</td>\n",
       "      <td>0.00000</td>\n",
       "      <td>0.0</td>\n",
       "      <td>0.0</td>\n",
       "      <td>0.000000</td>\n",
       "      <td>0.0</td>\n",
       "      <td>0.000000</td>\n",
       "      <td>0.0</td>\n",
       "      <td>0.0</td>\n",
       "      <td>0.0</td>\n",
       "    </tr>\n",
       "    <tr>\n",
       "      <th>Temptress, The (1926)</th>\n",
       "      <td>0.000000</td>\n",
       "      <td>0.000000</td>\n",
       "      <td>0.0</td>\n",
       "      <td>0.000000</td>\n",
       "      <td>0.0</td>\n",
       "      <td>0.0</td>\n",
       "      <td>0.0</td>\n",
       "      <td>0.0</td>\n",
       "      <td>0.853287</td>\n",
       "      <td>0.0</td>\n",
       "      <td>...</td>\n",
       "      <td>0.000000</td>\n",
       "      <td>0.00000</td>\n",
       "      <td>0.0</td>\n",
       "      <td>0.0</td>\n",
       "      <td>0.000000</td>\n",
       "      <td>0.0</td>\n",
       "      <td>0.521442</td>\n",
       "      <td>0.0</td>\n",
       "      <td>0.0</td>\n",
       "      <td>0.0</td>\n",
       "    </tr>\n",
       "    <tr>\n",
       "      <th>Amen. (2002)</th>\n",
       "      <td>0.000000</td>\n",
       "      <td>0.000000</td>\n",
       "      <td>0.0</td>\n",
       "      <td>0.000000</td>\n",
       "      <td>0.0</td>\n",
       "      <td>0.0</td>\n",
       "      <td>0.0</td>\n",
       "      <td>0.0</td>\n",
       "      <td>0.000000</td>\n",
       "      <td>0.0</td>\n",
       "      <td>...</td>\n",
       "      <td>0.000000</td>\n",
       "      <td>0.00000</td>\n",
       "      <td>0.0</td>\n",
       "      <td>0.0</td>\n",
       "      <td>0.000000</td>\n",
       "      <td>0.0</td>\n",
       "      <td>1.000000</td>\n",
       "      <td>0.0</td>\n",
       "      <td>0.0</td>\n",
       "      <td>0.0</td>\n",
       "    </tr>\n",
       "    <tr>\n",
       "      <th>Pride &amp; Prejudice (2005)</th>\n",
       "      <td>0.000000</td>\n",
       "      <td>0.000000</td>\n",
       "      <td>0.0</td>\n",
       "      <td>0.000000</td>\n",
       "      <td>0.0</td>\n",
       "      <td>0.0</td>\n",
       "      <td>0.0</td>\n",
       "      <td>0.0</td>\n",
       "      <td>0.853287</td>\n",
       "      <td>0.0</td>\n",
       "      <td>...</td>\n",
       "      <td>0.000000</td>\n",
       "      <td>0.00000</td>\n",
       "      <td>0.0</td>\n",
       "      <td>0.0</td>\n",
       "      <td>0.000000</td>\n",
       "      <td>0.0</td>\n",
       "      <td>0.521442</td>\n",
       "      <td>0.0</td>\n",
       "      <td>0.0</td>\n",
       "      <td>0.0</td>\n",
       "    </tr>\n",
       "    <tr>\n",
       "      <th>Bloodsport 2 (a.k.a. Bloodsport II: The Next Kumite) (1996)</th>\n",
       "      <td>0.000000</td>\n",
       "      <td>1.000000</td>\n",
       "      <td>0.0</td>\n",
       "      <td>0.000000</td>\n",
       "      <td>0.0</td>\n",
       "      <td>0.0</td>\n",
       "      <td>0.0</td>\n",
       "      <td>0.0</td>\n",
       "      <td>0.000000</td>\n",
       "      <td>0.0</td>\n",
       "      <td>...</td>\n",
       "      <td>0.000000</td>\n",
       "      <td>0.00000</td>\n",
       "      <td>0.0</td>\n",
       "      <td>0.0</td>\n",
       "      <td>0.000000</td>\n",
       "      <td>0.0</td>\n",
       "      <td>0.000000</td>\n",
       "      <td>0.0</td>\n",
       "      <td>0.0</td>\n",
       "      <td>0.0</td>\n",
       "    </tr>\n",
       "    <tr>\n",
       "      <th>Mr. Bean's Holiday (2007)</th>\n",
       "      <td>0.000000</td>\n",
       "      <td>0.000000</td>\n",
       "      <td>0.0</td>\n",
       "      <td>0.000000</td>\n",
       "      <td>0.0</td>\n",
       "      <td>1.0</td>\n",
       "      <td>0.0</td>\n",
       "      <td>0.0</td>\n",
       "      <td>0.000000</td>\n",
       "      <td>0.0</td>\n",
       "      <td>...</td>\n",
       "      <td>0.000000</td>\n",
       "      <td>0.00000</td>\n",
       "      <td>0.0</td>\n",
       "      <td>0.0</td>\n",
       "      <td>0.000000</td>\n",
       "      <td>0.0</td>\n",
       "      <td>0.000000</td>\n",
       "      <td>0.0</td>\n",
       "      <td>0.0</td>\n",
       "      <td>0.0</td>\n",
       "    </tr>\n",
       "  </tbody>\n",
       "</table>\n",
       "<p>10 rows × 24 columns</p>\n",
       "</div>"
      ],
      "text/plain": [
       "                                                      horror    action  film  \\\n",
       "title                                                                          \n",
       "Red Cliff (Chi bi) (2008)                           0.000000  0.458255   0.0   \n",
       "Face in the Crowd, A (1957)                         0.000000  0.000000   0.0   \n",
       "Once a Thief (1965)                                 0.000000  0.000000   0.0   \n",
       "Exorcist: The Beginning (2004)                      0.793994  0.000000   0.0   \n",
       "Night of the Living Dead (1968)                     0.514763  0.000000   0.0   \n",
       "Temptress, The (1926)                               0.000000  0.000000   0.0   \n",
       "Amen. (2002)                                        0.000000  0.000000   0.0   \n",
       "Pride & Prejudice (2005)                            0.000000  0.000000   0.0   \n",
       "Bloodsport 2 (a.k.a. Bloodsport II: The Next Ku...  0.000000  1.000000   0.0   \n",
       "Mr. Bean's Holiday (2007)                           0.000000  0.000000   0.0   \n",
       "\n",
       "                                                    adventure  animation  \\\n",
       "title                                                                      \n",
       "Red Cliff (Chi bi) (2008)                            0.524148        0.0   \n",
       "Face in the Crowd, A (1957)                          0.000000        0.0   \n",
       "Once a Thief (1965)                                  0.000000        0.0   \n",
       "Exorcist: The Beginning (2004)                       0.000000        0.0   \n",
       "Night of the Living Dead (1968)                      0.000000        0.0   \n",
       "Temptress, The (1926)                                0.000000        0.0   \n",
       "Amen. (2002)                                         0.000000        0.0   \n",
       "Pride & Prejudice (2005)                             0.000000        0.0   \n",
       "Bloodsport 2 (a.k.a. Bloodsport II: The Next Ku...   0.000000        0.0   \n",
       "Mr. Bean's Holiday (2007)                            0.000000        0.0   \n",
       "\n",
       "                                                    comedy  listed  imax  \\\n",
       "title                                                                      \n",
       "Red Cliff (Chi bi) (2008)                              0.0     0.0   0.0   \n",
       "Face in the Crowd, A (1957)                            0.0     0.0   0.0   \n",
       "Once a Thief (1965)                                    0.0     0.0   0.0   \n",
       "Exorcist: The Beginning (2004)                         0.0     0.0   0.0   \n",
       "Night of the Living Dead (1968)                        0.0     0.0   0.0   \n",
       "Temptress, The (1926)                                  0.0     0.0   0.0   \n",
       "Amen. (2002)                                           0.0     0.0   0.0   \n",
       "Pride & Prejudice (2005)                               0.0     0.0   0.0   \n",
       "Bloodsport 2 (a.k.a. Bloodsport II: The Next Ku...     0.0     0.0   0.0   \n",
       "Mr. Bean's Holiday (2007)                              1.0     0.0   0.0   \n",
       "\n",
       "                                                     romance  mystery  ...  \\\n",
       "title                                                                  ...   \n",
       "Red Cliff (Chi bi) (2008)                           0.000000      0.0  ...   \n",
       "Face in the Crowd, A (1957)                         0.000000      0.0  ...   \n",
       "Once a Thief (1965)                                 0.000000      0.0  ...   \n",
       "Exorcist: The Beginning (2004)                      0.000000      0.0  ...   \n",
       "Night of the Living Dead (1968)                     0.000000      0.0  ...   \n",
       "Temptress, The (1926)                               0.853287      0.0  ...   \n",
       "Amen. (2002)                                        0.000000      0.0  ...   \n",
       "Pride & Prejudice (2005)                            0.853287      0.0  ...   \n",
       "Bloodsport 2 (a.k.a. Bloodsport II: The Next Ku...  0.000000      0.0  ...   \n",
       "Mr. Bean's Holiday (2007)                           0.000000      0.0  ...   \n",
       "\n",
       "                                                    thriller    crime  \\\n",
       "title                                                                   \n",
       "Red Cliff (Chi bi) (2008)                           0.000000  0.00000   \n",
       "Face in the Crowd, A (1957)                         0.000000  0.00000   \n",
       "Once a Thief (1965)                                 0.598809  0.69682   \n",
       "Exorcist: The Beginning (2004)                      0.607926  0.00000   \n",
       "Night of the Living Dead (1968)                     0.394131  0.00000   \n",
       "Temptress, The (1926)                               0.000000  0.00000   \n",
       "Amen. (2002)                                        0.000000  0.00000   \n",
       "Pride & Prejudice (2005)                            0.000000  0.00000   \n",
       "Bloodsport 2 (a.k.a. Bloodsport II: The Next Ku...  0.000000  0.00000   \n",
       "Mr. Bean's Holiday (2007)                           0.000000  0.00000   \n",
       "\n",
       "                                                    fantasy  genres       war  \\\n",
       "title                                                                           \n",
       "Red Cliff (Chi bi) (2008)                               0.0     0.0  0.662172   \n",
       "Face in the Crowd, A (1957)                             0.0     0.0  0.000000   \n",
       "Once a Thief (1965)                                     0.0     0.0  0.000000   \n",
       "Exorcist: The Beginning (2004)                          0.0     0.0  0.000000   \n",
       "Night of the Living Dead (1968)                         0.0     0.0  0.000000   \n",
       "Temptress, The (1926)                                   0.0     0.0  0.000000   \n",
       "Amen. (2002)                                            0.0     0.0  0.000000   \n",
       "Pride & Prejudice (2005)                                0.0     0.0  0.000000   \n",
       "Bloodsport 2 (a.k.a. Bloodsport II: The Next Ku...      0.0     0.0  0.000000   \n",
       "Mr. Bean's Holiday (2007)                               0.0     0.0  0.000000   \n",
       "\n",
       "                                                     no     drama  noir  \\\n",
       "title                                                                     \n",
       "Red Cliff (Chi bi) (2008)                           0.0  0.277128   0.0   \n",
       "Face in the Crowd, A (1957)                         0.0  1.000000   0.0   \n",
       "Once a Thief (1965)                                 0.0  0.394804   0.0   \n",
       "Exorcist: The Beginning (2004)                      0.0  0.000000   0.0   \n",
       "Night of the Living Dead (1968)                     0.0  0.000000   0.0   \n",
       "Temptress, The (1926)                               0.0  0.521442   0.0   \n",
       "Amen. (2002)                                        0.0  1.000000   0.0   \n",
       "Pride & Prejudice (2005)                            0.0  0.521442   0.0   \n",
       "Bloodsport 2 (a.k.a. Bloodsport II: The Next Ku...  0.0  0.000000   0.0   \n",
       "Mr. Bean's Holiday (2007)                           0.0  0.000000   0.0   \n",
       "\n",
       "                                                    western  documentary  \n",
       "title                                                                     \n",
       "Red Cliff (Chi bi) (2008)                               0.0          0.0  \n",
       "Face in the Crowd, A (1957)                             0.0          0.0  \n",
       "Once a Thief (1965)                                     0.0          0.0  \n",
       "Exorcist: The Beginning (2004)                          0.0          0.0  \n",
       "Night of the Living Dead (1968)                         0.0          0.0  \n",
       "Temptress, The (1926)                                   0.0          0.0  \n",
       "Amen. (2002)                                            0.0          0.0  \n",
       "Pride & Prejudice (2005)                                0.0          0.0  \n",
       "Bloodsport 2 (a.k.a. Bloodsport II: The Next Ku...      0.0          0.0  \n",
       "Mr. Bean's Holiday (2007)                               0.0          0.0  \n",
       "\n",
       "[10 rows x 24 columns]"
      ]
     },
     "execution_count": 29,
     "metadata": {},
     "output_type": "execute_result"
    }
   ],
   "source": [
    "tfidf_df = pd.DataFrame(tfidf_mtx.todense(),\n",
    "                        columns=tfidf.get_feature_names(),\n",
    "                        index=movie_fix.title).sample(24, axis = 1).sample(10, axis = 0)\n",
    "\n",
    "tfidf_df"
   ]
  },
  {
   "cell_type": "markdown",
   "metadata": {},
   "source": [
    "### Consine Similarity"
   ]
  },
  {
   "cell_type": "markdown",
   "metadata": {},
   "source": [
    "Dilakukan cosine similarity untuk mengetahui similarity degree di antara movie"
   ]
  },
  {
   "cell_type": "code",
   "execution_count": 30,
   "metadata": {},
   "outputs": [
    {
     "data": {
      "text/plain": [
       "array([[1.        , 0.15922835, 0.        , ..., 0.        , 0.        ,\n",
       "        0.49295494],\n",
       "       [0.15922835, 1.        , 0.6978008 , ..., 0.        , 0.        ,\n",
       "        0.32300791],\n",
       "       [0.        , 0.6978008 , 1.        , ..., 0.        , 0.38168544,\n",
       "        0.        ],\n",
       "       ...,\n",
       "       [0.        , 0.        , 0.        , ..., 1.        , 0.        ,\n",
       "        0.        ],\n",
       "       [0.        , 0.        , 0.38168544, ..., 0.        , 1.        ,\n",
       "        0.        ],\n",
       "       [0.49295494, 0.32300791, 0.        , ..., 0.        , 0.        ,\n",
       "        1.        ]])"
      ]
     },
     "execution_count": 30,
     "metadata": {},
     "output_type": "execute_result"
    }
   ],
   "source": [
    "from sklearn.metrics.pairwise import cosine_similarity\n",
    "\n",
    "cosine_sim = cosine_similarity(tfidf_mtx)\n",
    "cosine_sim"
   ]
  },
  {
   "cell_type": "markdown",
   "metadata": {},
   "source": [
    "Membuat variable `cosine_dim_df` yang merupakan dataframe untuk melihat kesamaan matrix yang dimiliki dari setiap movie. Dapat dilihat sebagai contoh bahwa movie Red Planet memiliki kesamaan sebesar 0.31 dengan movie Some Guy Who Kills People."
   ]
  },
  {
   "cell_type": "code",
   "execution_count": 39,
   "metadata": {},
   "outputs": [
    {
     "name": "stdout",
     "output_type": "stream",
     "text": [
      "Shape:  (10325, 10325)\n"
     ]
    },
    {
     "data": {
      "text/html": [
       "<div>\n",
       "<style scoped>\n",
       "    .dataframe tbody tr th:only-of-type {\n",
       "        vertical-align: middle;\n",
       "    }\n",
       "\n",
       "    .dataframe tbody tr th {\n",
       "        vertical-align: top;\n",
       "    }\n",
       "\n",
       "    .dataframe thead th {\n",
       "        text-align: right;\n",
       "    }\n",
       "</style>\n",
       "<table border=\"1\" class=\"dataframe\">\n",
       "  <thead>\n",
       "    <tr style=\"text-align: right;\">\n",
       "      <th>title</th>\n",
       "      <th>Insidious: Chapter 2 (2013)</th>\n",
       "      <th>Dust Devil (1992)</th>\n",
       "      <th>Inbetweeners 2, The (2014)</th>\n",
       "      <th>And God Created Woman (1988)</th>\n",
       "      <th>Dolls (2002)</th>\n",
       "    </tr>\n",
       "    <tr>\n",
       "      <th>title</th>\n",
       "      <th></th>\n",
       "      <th></th>\n",
       "      <th></th>\n",
       "      <th></th>\n",
       "      <th></th>\n",
       "    </tr>\n",
       "  </thead>\n",
       "  <tbody>\n",
       "    <tr>\n",
       "      <th>50/50 (2011)</th>\n",
       "      <td>0.000000</td>\n",
       "      <td>0.000000</td>\n",
       "      <td>0.777201</td>\n",
       "      <td>0.696683</td>\n",
       "      <td>0.328119</td>\n",
       "    </tr>\n",
       "    <tr>\n",
       "      <th>Out of Time (2003)</th>\n",
       "      <td>0.364032</td>\n",
       "      <td>0.272233</td>\n",
       "      <td>0.000000</td>\n",
       "      <td>0.173078</td>\n",
       "      <td>0.205867</td>\n",
       "    </tr>\n",
       "    <tr>\n",
       "      <th>Rocketship X-M (1950)</th>\n",
       "      <td>0.000000</td>\n",
       "      <td>0.000000</td>\n",
       "      <td>0.000000</td>\n",
       "      <td>0.000000</td>\n",
       "      <td>0.000000</td>\n",
       "    </tr>\n",
       "    <tr>\n",
       "      <th>Last King of Scotland, The (2006)</th>\n",
       "      <td>0.507541</td>\n",
       "      <td>0.379554</td>\n",
       "      <td>0.000000</td>\n",
       "      <td>0.241309</td>\n",
       "      <td>0.287025</td>\n",
       "    </tr>\n",
       "    <tr>\n",
       "      <th>Speechless (1994)</th>\n",
       "      <td>0.000000</td>\n",
       "      <td>0.000000</td>\n",
       "      <td>0.602438</td>\n",
       "      <td>0.898785</td>\n",
       "      <td>0.681064</td>\n",
       "    </tr>\n",
       "    <tr>\n",
       "      <th>Big Momma's House 2 (2006)</th>\n",
       "      <td>0.000000</td>\n",
       "      <td>0.000000</td>\n",
       "      <td>0.454806</td>\n",
       "      <td>0.246260</td>\n",
       "      <td>0.000000</td>\n",
       "    </tr>\n",
       "    <tr>\n",
       "      <th>Goon (2011)</th>\n",
       "      <td>0.000000</td>\n",
       "      <td>0.000000</td>\n",
       "      <td>0.777201</td>\n",
       "      <td>0.696683</td>\n",
       "      <td>0.328119</td>\n",
       "    </tr>\n",
       "    <tr>\n",
       "      <th>Stepfather, The (2009)</th>\n",
       "      <td>1.000000</td>\n",
       "      <td>0.747829</td>\n",
       "      <td>0.000000</td>\n",
       "      <td>0.000000</td>\n",
       "      <td>0.000000</td>\n",
       "    </tr>\n",
       "    <tr>\n",
       "      <th>Frostbitten (Frostbiten) (2006)</th>\n",
       "      <td>0.673760</td>\n",
       "      <td>0.503857</td>\n",
       "      <td>0.529082</td>\n",
       "      <td>0.286478</td>\n",
       "      <td>0.000000</td>\n",
       "    </tr>\n",
       "    <tr>\n",
       "      <th>Pacific Heights (1990)</th>\n",
       "      <td>0.343483</td>\n",
       "      <td>0.804634</td>\n",
       "      <td>0.000000</td>\n",
       "      <td>0.000000</td>\n",
       "      <td>0.000000</td>\n",
       "    </tr>\n",
       "  </tbody>\n",
       "</table>\n",
       "</div>"
      ],
      "text/plain": [
       "title                              Insidious: Chapter 2 (2013)  \\\n",
       "title                                                            \n",
       "50/50 (2011)                                          0.000000   \n",
       "Out of Time (2003)                                    0.364032   \n",
       "Rocketship X-M (1950)                                 0.000000   \n",
       "Last King of Scotland, The (2006)                     0.507541   \n",
       "Speechless (1994)                                     0.000000   \n",
       "Big Momma's House 2 (2006)                            0.000000   \n",
       "Goon (2011)                                           0.000000   \n",
       "Stepfather, The (2009)                                1.000000   \n",
       "Frostbitten (Frostbiten) (2006)                       0.673760   \n",
       "Pacific Heights (1990)                                0.343483   \n",
       "\n",
       "title                              Dust Devil (1992)  \\\n",
       "title                                                  \n",
       "50/50 (2011)                                0.000000   \n",
       "Out of Time (2003)                          0.272233   \n",
       "Rocketship X-M (1950)                       0.000000   \n",
       "Last King of Scotland, The (2006)           0.379554   \n",
       "Speechless (1994)                           0.000000   \n",
       "Big Momma's House 2 (2006)                  0.000000   \n",
       "Goon (2011)                                 0.000000   \n",
       "Stepfather, The (2009)                      0.747829   \n",
       "Frostbitten (Frostbiten) (2006)             0.503857   \n",
       "Pacific Heights (1990)                      0.804634   \n",
       "\n",
       "title                              Inbetweeners 2, The (2014)  \\\n",
       "title                                                           \n",
       "50/50 (2011)                                         0.777201   \n",
       "Out of Time (2003)                                   0.000000   \n",
       "Rocketship X-M (1950)                                0.000000   \n",
       "Last King of Scotland, The (2006)                    0.000000   \n",
       "Speechless (1994)                                    0.602438   \n",
       "Big Momma's House 2 (2006)                           0.454806   \n",
       "Goon (2011)                                          0.777201   \n",
       "Stepfather, The (2009)                               0.000000   \n",
       "Frostbitten (Frostbiten) (2006)                      0.529082   \n",
       "Pacific Heights (1990)                               0.000000   \n",
       "\n",
       "title                              And God Created Woman (1988)  Dolls (2002)  \n",
       "title                                                                          \n",
       "50/50 (2011)                                           0.696683      0.328119  \n",
       "Out of Time (2003)                                     0.173078      0.205867  \n",
       "Rocketship X-M (1950)                                  0.000000      0.000000  \n",
       "Last King of Scotland, The (2006)                      0.241309      0.287025  \n",
       "Speechless (1994)                                      0.898785      0.681064  \n",
       "Big Momma's House 2 (2006)                             0.246260      0.000000  \n",
       "Goon (2011)                                            0.696683      0.328119  \n",
       "Stepfather, The (2009)                                 0.000000      0.000000  \n",
       "Frostbitten (Frostbiten) (2006)                        0.286478      0.000000  \n",
       "Pacific Heights (1990)                                 0.000000      0.000000  "
      ]
     },
     "execution_count": 39,
     "metadata": {},
     "output_type": "execute_result"
    }
   ],
   "source": [
    "consine_dim_df = pd.DataFrame(cosine_sim, index = movie_fix['title'], columns=movie_fix['title'])\n",
    "print('Shape: ', consine_dim_df.shape)\n",
    "\n",
    "consine_dim_df.sample(5, axis =1).sample(10, axis = 0)"
   ]
  },
  {
   "cell_type": "markdown",
   "metadata": {},
   "source": [
    "Membuat fungsi `movie_recommendation` dengan parameter `movie_name` untuk mendapatkan rekomendasi berdasarkan movie yang ada."
   ]
  },
  {
   "cell_type": "code",
   "execution_count": 40,
   "metadata": {},
   "outputs": [],
   "source": [
    "def movie_recommendation(movie_name):\n",
    "    k = 5\n",
    "    items = movie_fix[['title', 'genre']]\n",
    "    index = consine_dim_df.loc[:, movie_name].to_numpy().argpartition(range(-1, -k, -1))\n",
    "    closest = consine_dim_df.columns[index[-1: -(k+2): -1]]\n",
    "    closest = closest.drop(movie_name, errors = 'ignore')\n",
    "    return pd.DataFrame(closest).merge(items).head(k)"
   ]
  },
  {
   "cell_type": "markdown",
   "metadata": {},
   "source": [
    "Kemudian, akan dilakukan pencarian untuk mengetahui rekomendasi movie yang mirip dengan `Toy Story (1995)`"
   ]
  },
  {
   "cell_type": "code",
   "execution_count": 41,
   "metadata": {},
   "outputs": [
    {
     "data": {
      "text/html": [
       "<div>\n",
       "<style scoped>\n",
       "    .dataframe tbody tr th:only-of-type {\n",
       "        vertical-align: middle;\n",
       "    }\n",
       "\n",
       "    .dataframe tbody tr th {\n",
       "        vertical-align: top;\n",
       "    }\n",
       "\n",
       "    .dataframe thead th {\n",
       "        text-align: right;\n",
       "    }\n",
       "</style>\n",
       "<table border=\"1\" class=\"dataframe\">\n",
       "  <thead>\n",
       "    <tr style=\"text-align: right;\">\n",
       "      <th></th>\n",
       "      <th>id</th>\n",
       "      <th>title</th>\n",
       "      <th>genre</th>\n",
       "    </tr>\n",
       "  </thead>\n",
       "  <tbody>\n",
       "    <tr>\n",
       "      <th>113</th>\n",
       "      <td>1</td>\n",
       "      <td>Toy Story (1995)</td>\n",
       "      <td>Adventure|Animation|Children|Comedy|Fantasy</td>\n",
       "    </tr>\n",
       "  </tbody>\n",
       "</table>\n",
       "</div>"
      ],
      "text/plain": [
       "     id             title                                        genre\n",
       "113   1  Toy Story (1995)  Adventure|Animation|Children|Comedy|Fantasy"
      ]
     },
     "execution_count": 41,
     "metadata": {},
     "output_type": "execute_result"
    }
   ],
   "source": [
    "movie_fix[movie_fix.title.eq('Toy Story (1995)')]"
   ]
  },
  {
   "cell_type": "markdown",
   "metadata": {},
   "source": [
    "Dengan menggunakan fungsi `movie_recommendation` diketahui bahwa terdapat lima movie yang mirip dan direkomendasikan berdasarkan rating pengguna terhadap movie `Toy Story (1995)`"
   ]
  },
  {
   "cell_type": "code",
   "execution_count": 43,
   "metadata": {},
   "outputs": [
    {
     "data": {
      "text/html": [
       "<div>\n",
       "<style scoped>\n",
       "    .dataframe tbody tr th:only-of-type {\n",
       "        vertical-align: middle;\n",
       "    }\n",
       "\n",
       "    .dataframe tbody tr th {\n",
       "        vertical-align: top;\n",
       "    }\n",
       "\n",
       "    .dataframe thead th {\n",
       "        text-align: right;\n",
       "    }\n",
       "</style>\n",
       "<table border=\"1\" class=\"dataframe\">\n",
       "  <thead>\n",
       "    <tr style=\"text-align: right;\">\n",
       "      <th></th>\n",
       "      <th>title</th>\n",
       "      <th>genre</th>\n",
       "    </tr>\n",
       "  </thead>\n",
       "  <tbody>\n",
       "    <tr>\n",
       "      <th>0</th>\n",
       "      <td>Shrek the Third (2007)</td>\n",
       "      <td>Adventure|Animation|Children|Comedy|Fantasy</td>\n",
       "    </tr>\n",
       "    <tr>\n",
       "      <th>1</th>\n",
       "      <td>Adventures of Rocky and Bullwinkle, The (2000)</td>\n",
       "      <td>Adventure|Animation|Children|Comedy|Fantasy</td>\n",
       "    </tr>\n",
       "    <tr>\n",
       "      <th>2</th>\n",
       "      <td>Wild, The (2006)</td>\n",
       "      <td>Adventure|Animation|Children|Comedy|Fantasy</td>\n",
       "    </tr>\n",
       "    <tr>\n",
       "      <th>3</th>\n",
       "      <td>Antz (1998)</td>\n",
       "      <td>Adventure|Animation|Children|Comedy|Fantasy</td>\n",
       "    </tr>\n",
       "    <tr>\n",
       "      <th>4</th>\n",
       "      <td>Tale of Despereaux, The (2008)</td>\n",
       "      <td>Adventure|Animation|Children|Comedy|Fantasy</td>\n",
       "    </tr>\n",
       "  </tbody>\n",
       "</table>\n",
       "</div>"
      ],
      "text/plain": [
       "                                            title  \\\n",
       "0                          Shrek the Third (2007)   \n",
       "1  Adventures of Rocky and Bullwinkle, The (2000)   \n",
       "2                                Wild, The (2006)   \n",
       "3                                     Antz (1998)   \n",
       "4                  Tale of Despereaux, The (2008)   \n",
       "\n",
       "                                         genre  \n",
       "0  Adventure|Animation|Children|Comedy|Fantasy  \n",
       "1  Adventure|Animation|Children|Comedy|Fantasy  \n",
       "2  Adventure|Animation|Children|Comedy|Fantasy  \n",
       "3  Adventure|Animation|Children|Comedy|Fantasy  \n",
       "4  Adventure|Animation|Children|Comedy|Fantasy  "
      ]
     },
     "execution_count": 43,
     "metadata": {},
     "output_type": "execute_result"
    }
   ],
   "source": [
    "movie_recommendation('Toy Story (1995)')"
   ]
  },
  {
   "cell_type": "markdown",
   "metadata": {},
   "source": [
    "## Collaborative Filtering"
   ]
  },
  {
   "cell_type": "code",
   "execution_count": 52,
   "metadata": {},
   "outputs": [],
   "source": [
    "# Import library\n",
    "import pandas as pd\n",
    "import numpy as np \n",
    "from zipfile import ZipFile\n",
    "import tensorflow as tf\n",
    "from tensorflow import keras\n",
    "from tensorflow.keras import layers\n",
    "from pathlib import Path\n",
    "import matplotlib.pyplot as plt"
   ]
  },
  {
   "cell_type": "code",
   "execution_count": 46,
   "metadata": {},
   "outputs": [
    {
     "data": {
      "text/html": [
       "<div>\n",
       "<style scoped>\n",
       "    .dataframe tbody tr th:only-of-type {\n",
       "        vertical-align: middle;\n",
       "    }\n",
       "\n",
       "    .dataframe tbody tr th {\n",
       "        vertical-align: top;\n",
       "    }\n",
       "\n",
       "    .dataframe thead th {\n",
       "        text-align: right;\n",
       "    }\n",
       "</style>\n",
       "<table border=\"1\" class=\"dataframe\">\n",
       "  <thead>\n",
       "    <tr style=\"text-align: right;\">\n",
       "      <th></th>\n",
       "      <th>userId</th>\n",
       "      <th>movieId</th>\n",
       "      <th>rating</th>\n",
       "      <th>timestamp</th>\n",
       "    </tr>\n",
       "  </thead>\n",
       "  <tbody>\n",
       "    <tr>\n",
       "      <th>84093</th>\n",
       "      <td>575</td>\n",
       "      <td>4681</td>\n",
       "      <td>2.0</td>\n",
       "      <td>995577182</td>\n",
       "    </tr>\n",
       "    <tr>\n",
       "      <th>5585</th>\n",
       "      <td>62</td>\n",
       "      <td>196</td>\n",
       "      <td>2.0</td>\n",
       "      <td>1268793348</td>\n",
       "    </tr>\n",
       "    <tr>\n",
       "      <th>27794</th>\n",
       "      <td>200</td>\n",
       "      <td>296</td>\n",
       "      <td>4.5</td>\n",
       "      <td>1271878585</td>\n",
       "    </tr>\n",
       "    <tr>\n",
       "      <th>25733</th>\n",
       "      <td>189</td>\n",
       "      <td>8656</td>\n",
       "      <td>5.0</td>\n",
       "      <td>1195626629</td>\n",
       "    </tr>\n",
       "    <tr>\n",
       "      <th>5158</th>\n",
       "      <td>59</td>\n",
       "      <td>27706</td>\n",
       "      <td>4.5</td>\n",
       "      <td>1439611041</td>\n",
       "    </tr>\n",
       "  </tbody>\n",
       "</table>\n",
       "</div>"
      ],
      "text/plain": [
       "       userId  movieId  rating   timestamp\n",
       "84093     575     4681     2.0   995577182\n",
       "5585       62      196     2.0  1268793348\n",
       "27794     200      296     4.5  1271878585\n",
       "25733     189     8656     5.0  1195626629\n",
       "5158       59    27706     4.5  1439611041"
      ]
     },
     "execution_count": 46,
     "metadata": {},
     "output_type": "execute_result"
    }
   ],
   "source": [
    "rating.sample(5)"
   ]
  },
  {
   "cell_type": "markdown",
   "metadata": {},
   "source": [
    "### Data Preparation"
   ]
  },
  {
   "cell_type": "markdown",
   "metadata": {},
   "source": [
    "melakukan tahapan preprocessing dengan melakukan beberapa encoding terhadap `userId`"
   ]
  },
  {
   "cell_type": "code",
   "execution_count": 47,
   "metadata": {},
   "outputs": [],
   "source": [
    "# UserID menjadi unique list\n",
    "user_id = rating['userId'].unique().tolist()\n",
    " \n",
    "# Encoding userID\n",
    "user_encoded = {x: i for i, x in enumerate(user_id)}\n",
    " \n",
    "# Encoding angka ke ke userID\n",
    "to_user = {i: x for i, x in enumerate(user_id)}\n"
   ]
  },
  {
   "cell_type": "markdown",
   "metadata": {},
   "source": [
    "melakukan tahapan preprocessing dengan melakukan beberapa encoding terhadap fitur `movieId`"
   ]
  },
  {
   "cell_type": "code",
   "execution_count": 48,
   "metadata": {},
   "outputs": [],
   "source": [
    "# MovieId menjadi list tanpa nilai yang sama\n",
    "movie_id = rating['movieId'].unique().tolist()\n",
    " \n",
    "# Proses encoding movieId\n",
    "movie_encoded = {x: i for i, x in enumerate(movie_id)}\n",
    " \n",
    "# Proses encoding angka ke movieId\n",
    "to_movie = {i: x for i, x in enumerate(movie_id)}\n",
    "  \n",
    "# Mapping userId ke dataframe genres\n",
    "rating['genres'] = rating['userId'].map(user_encoded)\n",
    " \n",
    "# Mapping movieD ke dataframe movies\n",
    "rating['movies'] = rating['movieId'].map(movie_encoded)"
   ]
  },
  {
   "cell_type": "markdown",
   "metadata": {},
   "source": [
    "Dilakukan beberapa preprocessing tambahan seperti mengubah tipe menjadi float, mengecek nilai maksimum dan minimum."
   ]
  },
  {
   "cell_type": "code",
   "execution_count": 49,
   "metadata": {},
   "outputs": [
    {
     "name": "stdout",
     "output_type": "stream",
     "text": [
      "Number of User: 668, Number of movie: 10325, Min Rating: 0.5, Max Rating: 5.0\n"
     ]
    }
   ],
   "source": [
    "num_users = len(user_encoded)\n",
    " \n",
    "num_movie = len(to_movie)\n",
    " \n",
    "rating['ratings'] = rating['rating'].values.astype(np.float32)\n",
    " \n",
    "min_rating = min(rating['rating'])\n",
    " \n",
    "max_rating = max(rating['rating'])\n",
    " \n",
    "print('Number of User: {}, Number of movie: {}, Min Rating: {}, Max Rating: {}'.format(\n",
    "    num_users, num_movie, min_rating, max_rating\n",
    "))"
   ]
  },
  {
   "cell_type": "markdown",
   "metadata": {},
   "source": [
    "### Splitting Data Training dan Validasi"
   ]
  },
  {
   "cell_type": "code",
   "execution_count": 50,
   "metadata": {},
   "outputs": [
    {
     "data": {
      "text/html": [
       "<div>\n",
       "<style scoped>\n",
       "    .dataframe tbody tr th:only-of-type {\n",
       "        vertical-align: middle;\n",
       "    }\n",
       "\n",
       "    .dataframe tbody tr th {\n",
       "        vertical-align: top;\n",
       "    }\n",
       "\n",
       "    .dataframe thead th {\n",
       "        text-align: right;\n",
       "    }\n",
       "</style>\n",
       "<table border=\"1\" class=\"dataframe\">\n",
       "  <thead>\n",
       "    <tr style=\"text-align: right;\">\n",
       "      <th></th>\n",
       "      <th>userId</th>\n",
       "      <th>movieId</th>\n",
       "      <th>rating</th>\n",
       "      <th>timestamp</th>\n",
       "      <th>genres</th>\n",
       "      <th>movies</th>\n",
       "      <th>ratings</th>\n",
       "    </tr>\n",
       "  </thead>\n",
       "  <tbody>\n",
       "    <tr>\n",
       "      <th>41032</th>\n",
       "      <td>285</td>\n",
       "      <td>2605</td>\n",
       "      <td>3.0</td>\n",
       "      <td>974036328</td>\n",
       "      <td>284</td>\n",
       "      <td>1575</td>\n",
       "      <td>3.0</td>\n",
       "    </tr>\n",
       "    <tr>\n",
       "      <th>1938</th>\n",
       "      <td>24</td>\n",
       "      <td>897</td>\n",
       "      <td>4.0</td>\n",
       "      <td>963472695</td>\n",
       "      <td>23</td>\n",
       "      <td>1118</td>\n",
       "      <td>4.0</td>\n",
       "    </tr>\n",
       "    <tr>\n",
       "      <th>92480</th>\n",
       "      <td>607</td>\n",
       "      <td>4016</td>\n",
       "      <td>4.0</td>\n",
       "      <td>979339130</td>\n",
       "      <td>606</td>\n",
       "      <td>318</td>\n",
       "      <td>4.0</td>\n",
       "    </tr>\n",
       "    <tr>\n",
       "      <th>30160</th>\n",
       "      <td>219</td>\n",
       "      <td>3981</td>\n",
       "      <td>2.0</td>\n",
       "      <td>1011718777</td>\n",
       "      <td>218</td>\n",
       "      <td>2522</td>\n",
       "      <td>2.0</td>\n",
       "    </tr>\n",
       "    <tr>\n",
       "      <th>28079</th>\n",
       "      <td>203</td>\n",
       "      <td>546</td>\n",
       "      <td>2.0</td>\n",
       "      <td>955137146</td>\n",
       "      <td>202</td>\n",
       "      <td>407</td>\n",
       "      <td>2.0</td>\n",
       "    </tr>\n",
       "    <tr>\n",
       "      <th>...</th>\n",
       "      <td>...</td>\n",
       "      <td>...</td>\n",
       "      <td>...</td>\n",
       "      <td>...</td>\n",
       "      <td>...</td>\n",
       "      <td>...</td>\n",
       "      <td>...</td>\n",
       "    </tr>\n",
       "    <tr>\n",
       "      <th>54886</th>\n",
       "      <td>402</td>\n",
       "      <td>780</td>\n",
       "      <td>2.5</td>\n",
       "      <td>1172355892</td>\n",
       "      <td>401</td>\n",
       "      <td>34</td>\n",
       "      <td>2.5</td>\n",
       "    </tr>\n",
       "    <tr>\n",
       "      <th>76820</th>\n",
       "      <td>541</td>\n",
       "      <td>2334</td>\n",
       "      <td>4.0</td>\n",
       "      <td>1004508382</td>\n",
       "      <td>540</td>\n",
       "      <td>2489</td>\n",
       "      <td>4.0</td>\n",
       "    </tr>\n",
       "    <tr>\n",
       "      <th>103694</th>\n",
       "      <td>668</td>\n",
       "      <td>55288</td>\n",
       "      <td>2.5</td>\n",
       "      <td>1242489706</td>\n",
       "      <td>667</td>\n",
       "      <td>2733</td>\n",
       "      <td>2.5</td>\n",
       "    </tr>\n",
       "    <tr>\n",
       "      <th>860</th>\n",
       "      <td>11</td>\n",
       "      <td>377</td>\n",
       "      <td>3.0</td>\n",
       "      <td>850815719</td>\n",
       "      <td>10</td>\n",
       "      <td>19</td>\n",
       "      <td>3.0</td>\n",
       "    </tr>\n",
       "    <tr>\n",
       "      <th>15795</th>\n",
       "      <td>128</td>\n",
       "      <td>3753</td>\n",
       "      <td>3.0</td>\n",
       "      <td>1262378593</td>\n",
       "      <td>127</td>\n",
       "      <td>1983</td>\n",
       "      <td>3.0</td>\n",
       "    </tr>\n",
       "  </tbody>\n",
       "</table>\n",
       "<p>105339 rows × 7 columns</p>\n",
       "</div>"
      ],
      "text/plain": [
       "        userId  movieId  rating   timestamp  genres  movies  ratings\n",
       "41032      285     2605     3.0   974036328     284    1575      3.0\n",
       "1938        24      897     4.0   963472695      23    1118      4.0\n",
       "92480      607     4016     4.0   979339130     606     318      4.0\n",
       "30160      219     3981     2.0  1011718777     218    2522      2.0\n",
       "28079      203      546     2.0   955137146     202     407      2.0\n",
       "...        ...      ...     ...         ...     ...     ...      ...\n",
       "54886      402      780     2.5  1172355892     401      34      2.5\n",
       "76820      541     2334     4.0  1004508382     540    2489      4.0\n",
       "103694     668    55288     2.5  1242489706     667    2733      2.5\n",
       "860         11      377     3.0   850815719      10      19      3.0\n",
       "15795      128     3753     3.0  1262378593     127    1983      3.0\n",
       "\n",
       "[105339 rows x 7 columns]"
      ]
     },
     "execution_count": 50,
     "metadata": {},
     "output_type": "execute_result"
    }
   ],
   "source": [
    "# Mengacak dataset\n",
    "df = rating.sample(frac=1, random_state=42)\n",
    "df"
   ]
  },
  {
   "cell_type": "markdown",
   "metadata": {},
   "source": [
    "Membagi data dengan rasio 80:20 untuk data training dan validation"
   ]
  },
  {
   "cell_type": "code",
   "execution_count": 51,
   "metadata": {},
   "outputs": [
    {
     "name": "stdout",
     "output_type": "stream",
     "text": [
      "[[ 284 1575]\n",
      " [  23 1118]\n",
      " [ 606  318]\n",
      " ...\n",
      " [ 667 2733]\n",
      " [  10   19]\n",
      " [ 127 1983]] [0.55555556 0.77777778 0.77777778 ... 0.44444444 0.55555556 0.55555556]\n"
     ]
    }
   ],
   "source": [
    "# Membuat variabel x untuk mencocokkan data genres  dan movies menjadi satu value\n",
    "x = df[['genres', 'movies']].values\n",
    " \n",
    "# Membuat variabel y untuk membuat ratings dari hasil \n",
    "y = df['ratings'].apply(lambda x: (x - min_rating) / (max_rating - min_rating)).values\n",
    " \n",
    "# Membagi menjadi 80% data train dan 20% data validasi\n",
    "train_indices = int(0.8 * df.shape[0])\n",
    "x_train, x_val, y_train, y_val = (\n",
    "    x[:train_indices],\n",
    "    x[train_indices:],\n",
    "    y[:train_indices],\n",
    "    y[train_indices:]\n",
    ")\n",
    " \n",
    "print(x, y)"
   ]
  },
  {
   "cell_type": "markdown",
   "metadata": {},
   "source": [
    "Melakukan proses training"
   ]
  },
  {
   "cell_type": "code",
   "execution_count": 53,
   "metadata": {},
   "outputs": [],
   "source": [
    "class RecommenderNet(tf.keras.Model):\n",
    " \n",
    "  # Insialisasi fungsi\n",
    "  def __init__(self, num_users, num_movie, embedding_size, **kwargs):\n",
    "    super(RecommenderNet, self).__init__(**kwargs)\n",
    "    self.num_users = num_users\n",
    "    self.num_movie = num_movie\n",
    "    self.embedding_size = embedding_size\n",
    "    self.user_embedding = layers.Embedding( # layer embedding user\n",
    "        num_users,\n",
    "        embedding_size,\n",
    "        embeddings_initializer = 'he_normal',\n",
    "        embeddings_regularizer = keras.regularizers.l2(1e-6)\n",
    "    )\n",
    "    self.user_bias = layers.Embedding(num_users, 1) # layer embedding user bias\n",
    "    self.movie_embedding = layers.Embedding( # layer embeddings movies\n",
    "        num_movie,\n",
    "        embedding_size,\n",
    "        embeddings_initializer = 'he_normal',\n",
    "        embeddings_regularizer = keras.regularizers.l2(1e-6)\n",
    "    )\n",
    "    self.movie_bias = layers.Embedding(num_movie, 1) # layer embedding movies bias\n",
    " \n",
    "  def call(self, inputs):\n",
    "    user_vector = self.user_embedding(inputs[:,0]) # memanggil layer embedding 1\n",
    "    user_bias = self.user_bias(inputs[:, 0]) # memanggil layer embedding 2\n",
    "    movie_vector = self.movie_embedding(inputs[:, 1]) # memanggil layer embedding 3\n",
    "    movie_bias = self.movie_bias(inputs[:, 1]) # memanggil layer embedding 4\n",
    " \n",
    "    dot_user_movie = tf.tensordot(user_vector, movie_vector, 2) \n",
    " \n",
    "    x = dot_user_movie + user_bias + movie_bias\n",
    "    \n",
    "    return tf.nn.sigmoid(x) # activation sigmoid"
   ]
  },
  {
   "cell_type": "markdown",
   "metadata": {},
   "source": [
    "### Evaluation"
   ]
  },
  {
   "cell_type": "markdown",
   "metadata": {},
   "source": [
    "Melakukan proses compile terhadap model dengan menggunakan matriks evaluasi RMSE"
   ]
  },
  {
   "cell_type": "code",
   "execution_count": 55,
   "metadata": {},
   "outputs": [],
   "source": [
    "model = RecommenderNet(num_users, num_movie, 50) # inisialisasi model\n",
    " \n",
    "# model compile\n",
    "model.compile(\n",
    "    loss = tf.keras.losses.BinaryCrossentropy(),\n",
    "    optimizer = keras.optimizers.Adam(learning_rate=0.001),\n",
    "    metrics=[tf.keras.metrics.RootMeanSquaredError()])"
   ]
  },
  {
   "cell_type": "markdown",
   "metadata": {},
   "source": [
    "Melakukan proses training dengan `fit` dengan batch size sebesar 64 dan 100 epochs."
   ]
  },
  {
   "cell_type": "code",
   "execution_count": 56,
   "metadata": {},
   "outputs": [
    {
     "name": "stdout",
     "output_type": "stream",
     "text": [
      "Epoch 1/100\n",
      "1317/1317 [==============================] - 28s 15ms/step - loss: 0.6350 - root_mean_squared_error: 0.2343 - val_loss: 0.6157 - val_root_mean_squared_error: 0.2124\n",
      "Epoch 2/100\n",
      "1317/1317 [==============================] - 18s 14ms/step - loss: 0.6103 - root_mean_squared_error: 0.2085 - val_loss: 0.6122 - val_root_mean_squared_error: 0.2083\n",
      "Epoch 3/100\n",
      "1317/1317 [==============================] - 18s 14ms/step - loss: 0.6051 - root_mean_squared_error: 0.2030 - val_loss: 0.6101 - val_root_mean_squared_error: 0.2062\n",
      "Epoch 4/100\n",
      "1317/1317 [==============================] - 18s 13ms/step - loss: 0.6035 - root_mean_squared_error: 0.2011 - val_loss: 0.6093 - val_root_mean_squared_error: 0.2053\n",
      "Epoch 5/100\n",
      "1317/1317 [==============================] - 18s 14ms/step - loss: 0.6032 - root_mean_squared_error: 0.2007 - val_loss: 0.6071 - val_root_mean_squared_error: 0.2029\n",
      "Epoch 6/100\n",
      "1317/1317 [==============================] - 18s 13ms/step - loss: 0.6035 - root_mean_squared_error: 0.2006 - val_loss: 0.6081 - val_root_mean_squared_error: 0.2039\n",
      "Epoch 7/100\n",
      "1317/1317 [==============================] - 18s 14ms/step - loss: 0.6017 - root_mean_squared_error: 0.1986 - val_loss: 0.6098 - val_root_mean_squared_error: 0.2057\n",
      "Epoch 8/100\n",
      "1317/1317 [==============================] - 18s 14ms/step - loss: 0.6020 - root_mean_squared_error: 0.1985 - val_loss: 0.6069 - val_root_mean_squared_error: 0.2023\n",
      "Epoch 9/100\n",
      "1317/1317 [==============================] - 18s 14ms/step - loss: 0.6020 - root_mean_squared_error: 0.1983 - val_loss: 0.6073 - val_root_mean_squared_error: 0.2026\n",
      "Epoch 10/100\n",
      "1317/1317 [==============================] - 17s 13ms/step - loss: 0.6005 - root_mean_squared_error: 0.1966 - val_loss: 0.6074 - val_root_mean_squared_error: 0.2026\n",
      "Epoch 11/100\n",
      "1317/1317 [==============================] - 17s 13ms/step - loss: 0.6015 - root_mean_squared_error: 0.1974 - val_loss: 0.6082 - val_root_mean_squared_error: 0.2034\n",
      "Epoch 12/100\n",
      "1317/1317 [==============================] - 18s 14ms/step - loss: 0.6005 - root_mean_squared_error: 0.1962 - val_loss: 0.6099 - val_root_mean_squared_error: 0.2053\n",
      "Epoch 13/100\n",
      "1317/1317 [==============================] - 16s 12ms/step - loss: 0.6002 - root_mean_squared_error: 0.1957 - val_loss: 0.6084 - val_root_mean_squared_error: 0.2034\n",
      "Epoch 14/100\n",
      "1317/1317 [==============================] - 17s 13ms/step - loss: 0.6007 - root_mean_squared_error: 0.1960 - val_loss: 0.6087 - val_root_mean_squared_error: 0.2036\n",
      "Epoch 15/100\n",
      "1317/1317 [==============================] - 17s 13ms/step - loss: 0.6007 - root_mean_squared_error: 0.1960 - val_loss: 0.6061 - val_root_mean_squared_error: 0.2006\n",
      "Epoch 16/100\n",
      "1317/1317 [==============================] - 17s 13ms/step - loss: 0.6004 - root_mean_squared_error: 0.1954 - val_loss: 0.6098 - val_root_mean_squared_error: 0.2048\n",
      "Epoch 17/100\n",
      "1317/1317 [==============================] - 17s 13ms/step - loss: 0.6006 - root_mean_squared_error: 0.1954 - val_loss: 0.6068 - val_root_mean_squared_error: 0.2010\n",
      "Epoch 18/100\n",
      "1317/1317 [==============================] - 17s 13ms/step - loss: 0.6007 - root_mean_squared_error: 0.1954 - val_loss: 0.6070 - val_root_mean_squared_error: 0.2010\n",
      "Epoch 19/100\n",
      "1317/1317 [==============================] - 17s 13ms/step - loss: 0.6016 - root_mean_squared_error: 0.1962 - val_loss: 0.6075 - val_root_mean_squared_error: 0.2016\n",
      "Epoch 20/100\n",
      "1317/1317 [==============================] - 18s 14ms/step - loss: 0.5995 - root_mean_squared_error: 0.1939 - val_loss: 0.6091 - val_root_mean_squared_error: 0.2031\n",
      "Epoch 21/100\n",
      "1317/1317 [==============================] - 19s 14ms/step - loss: 0.6010 - root_mean_squared_error: 0.1953 - val_loss: 0.6109 - val_root_mean_squared_error: 0.2049\n",
      "Epoch 22/100\n",
      "1317/1317 [==============================] - 17s 13ms/step - loss: 0.6012 - root_mean_squared_error: 0.1956 - val_loss: 0.6102 - val_root_mean_squared_error: 0.2039\n",
      "Epoch 23/100\n",
      "1317/1317 [==============================] - 18s 13ms/step - loss: 0.6011 - root_mean_squared_error: 0.1952 - val_loss: 0.6104 - val_root_mean_squared_error: 0.2043\n",
      "Epoch 24/100\n",
      "1317/1317 [==============================] - 18s 14ms/step - loss: 0.6015 - root_mean_squared_error: 0.1956 - val_loss: 0.6103 - val_root_mean_squared_error: 0.2039\n",
      "Epoch 25/100\n",
      "1317/1317 [==============================] - 18s 14ms/step - loss: 0.6021 - root_mean_squared_error: 0.1959 - val_loss: 0.6108 - val_root_mean_squared_error: 0.2044\n",
      "Epoch 26/100\n",
      "1317/1317 [==============================] - 17s 13ms/step - loss: 0.6005 - root_mean_squared_error: 0.1941 - val_loss: 0.6100 - val_root_mean_squared_error: 0.2035\n",
      "Epoch 27/100\n",
      "1317/1317 [==============================] - 18s 13ms/step - loss: 0.6012 - root_mean_squared_error: 0.1947 - val_loss: 0.6117 - val_root_mean_squared_error: 0.2055\n",
      "Epoch 28/100\n",
      "1317/1317 [==============================] - 19s 14ms/step - loss: 0.6014 - root_mean_squared_error: 0.1950 - val_loss: 0.6092 - val_root_mean_squared_error: 0.2025\n",
      "Epoch 29/100\n",
      "1317/1317 [==============================] - 19s 14ms/step - loss: 0.6013 - root_mean_squared_error: 0.1947 - val_loss: 0.6105 - val_root_mean_squared_error: 0.2039\n",
      "Epoch 30/100\n",
      "1317/1317 [==============================] - 18s 14ms/step - loss: 0.6018 - root_mean_squared_error: 0.1951 - val_loss: 0.6106 - val_root_mean_squared_error: 0.2038\n",
      "Epoch 31/100\n",
      "1317/1317 [==============================] - 19s 14ms/step - loss: 0.6026 - root_mean_squared_error: 0.1961 - val_loss: 0.6105 - val_root_mean_squared_error: 0.2036\n",
      "Epoch 32/100\n",
      "1317/1317 [==============================] - 19s 14ms/step - loss: 0.6015 - root_mean_squared_error: 0.1948 - val_loss: 0.6096 - val_root_mean_squared_error: 0.2024\n",
      "Epoch 33/100\n",
      "1317/1317 [==============================] - 17s 13ms/step - loss: 0.6023 - root_mean_squared_error: 0.1953 - val_loss: 0.6107 - val_root_mean_squared_error: 0.2035\n",
      "Epoch 34/100\n",
      "1317/1317 [==============================] - 17s 13ms/step - loss: 0.6022 - root_mean_squared_error: 0.1953 - val_loss: 0.6095 - val_root_mean_squared_error: 0.2019\n",
      "Epoch 35/100\n",
      "1317/1317 [==============================] - 15s 11ms/step - loss: 0.6015 - root_mean_squared_error: 0.1945 - val_loss: 0.6116 - val_root_mean_squared_error: 0.2047\n",
      "Epoch 36/100\n",
      "1317/1317 [==============================] - 8s 6ms/step - loss: 0.6018 - root_mean_squared_error: 0.1950 - val_loss: 0.6099 - val_root_mean_squared_error: 0.2022\n",
      "Epoch 37/100\n",
      "1317/1317 [==============================] - 8s 6ms/step - loss: 0.6036 - root_mean_squared_error: 0.1966 - val_loss: 0.6124 - val_root_mean_squared_error: 0.2050\n",
      "Epoch 38/100\n",
      "1317/1317 [==============================] - 8s 6ms/step - loss: 0.6021 - root_mean_squared_error: 0.1952 - val_loss: 0.6120 - val_root_mean_squared_error: 0.2042\n",
      "Epoch 39/100\n",
      "1317/1317 [==============================] - 8s 6ms/step - loss: 0.6029 - root_mean_squared_error: 0.1955 - val_loss: 0.6145 - val_root_mean_squared_error: 0.2072\n",
      "Epoch 40/100\n",
      "1317/1317 [==============================] - 8s 6ms/step - loss: 0.6015 - root_mean_squared_error: 0.1942 - val_loss: 0.6128 - val_root_mean_squared_error: 0.2050\n",
      "Epoch 41/100\n",
      "1317/1317 [==============================] - 8s 6ms/step - loss: 0.6030 - root_mean_squared_error: 0.1957 - val_loss: 0.6131 - val_root_mean_squared_error: 0.2057\n",
      "Epoch 42/100\n",
      "1317/1317 [==============================] - 8s 6ms/step - loss: 0.6031 - root_mean_squared_error: 0.1961 - val_loss: 0.6111 - val_root_mean_squared_error: 0.2031\n",
      "Epoch 43/100\n",
      "1317/1317 [==============================] - 8s 6ms/step - loss: 0.6032 - root_mean_squared_error: 0.1956 - val_loss: 0.6131 - val_root_mean_squared_error: 0.2059\n",
      "Epoch 44/100\n",
      "1317/1317 [==============================] - 8s 6ms/step - loss: 0.6029 - root_mean_squared_error: 0.1959 - val_loss: 0.6125 - val_root_mean_squared_error: 0.2045\n",
      "Epoch 45/100\n",
      "1317/1317 [==============================] - 8s 6ms/step - loss: 0.6032 - root_mean_squared_error: 0.1956 - val_loss: 0.6135 - val_root_mean_squared_error: 0.2060\n",
      "Epoch 46/100\n",
      "1317/1317 [==============================] - 9s 7ms/step - loss: 0.6016 - root_mean_squared_error: 0.1945 - val_loss: 0.6121 - val_root_mean_squared_error: 0.2038\n",
      "Epoch 47/100\n",
      "1317/1317 [==============================] - 9s 7ms/step - loss: 0.6018 - root_mean_squared_error: 0.1940 - val_loss: 0.6147 - val_root_mean_squared_error: 0.2072\n",
      "Epoch 48/100\n",
      "1317/1317 [==============================] - 8s 6ms/step - loss: 0.6020 - root_mean_squared_error: 0.1950 - val_loss: 0.6140 - val_root_mean_squared_error: 0.2052\n",
      "Epoch 49/100\n",
      "1317/1317 [==============================] - 8s 6ms/step - loss: 0.6030 - root_mean_squared_error: 0.1948 - val_loss: 0.6155 - val_root_mean_squared_error: 0.2078\n",
      "Epoch 50/100\n",
      "1317/1317 [==============================] - 8s 6ms/step - loss: 0.6037 - root_mean_squared_error: 0.1968 - val_loss: 0.6134 - val_root_mean_squared_error: 0.2045\n",
      "Epoch 51/100\n",
      "1317/1317 [==============================] - 8s 6ms/step - loss: 0.6036 - root_mean_squared_error: 0.1953 - val_loss: 0.6139 - val_root_mean_squared_error: 0.2062\n",
      "Epoch 52/100\n",
      "1317/1317 [==============================] - 8s 6ms/step - loss: 0.6045 - root_mean_squared_error: 0.1977 - val_loss: 0.6120 - val_root_mean_squared_error: 0.2029\n",
      "Epoch 53/100\n",
      "1317/1317 [==============================] - 9s 7ms/step - loss: 0.6027 - root_mean_squared_error: 0.1941 - val_loss: 0.6132 - val_root_mean_squared_error: 0.2054\n",
      "Epoch 54/100\n",
      "1317/1317 [==============================] - 9s 7ms/step - loss: 0.6031 - root_mean_squared_error: 0.1962 - val_loss: 0.6126 - val_root_mean_squared_error: 0.2033\n",
      "Epoch 55/100\n",
      "1317/1317 [==============================] - 9s 7ms/step - loss: 0.6036 - root_mean_squared_error: 0.1949 - val_loss: 0.6134 - val_root_mean_squared_error: 0.2055\n",
      "Epoch 56/100\n",
      "1317/1317 [==============================] - 8s 6ms/step - loss: 0.6034 - root_mean_squared_error: 0.1966 - val_loss: 0.6127 - val_root_mean_squared_error: 0.2034\n",
      "Epoch 57/100\n",
      "1317/1317 [==============================] - 8s 6ms/step - loss: 0.6029 - root_mean_squared_error: 0.1941 - val_loss: 0.6135 - val_root_mean_squared_error: 0.2056\n",
      "Epoch 58/100\n",
      "1317/1317 [==============================] - 8s 6ms/step - loss: 0.6055 - root_mean_squared_error: 0.1990 - val_loss: 0.6154 - val_root_mean_squared_error: 0.2047\n",
      "Epoch 59/100\n",
      "1317/1317 [==============================] - 8s 6ms/step - loss: 0.6045 - root_mean_squared_error: 0.1951 - val_loss: 0.6159 - val_root_mean_squared_error: 0.2083\n",
      "Epoch 60/100\n",
      "1317/1317 [==============================] - 8s 6ms/step - loss: 0.6048 - root_mean_squared_error: 0.1985 - val_loss: 0.6134 - val_root_mean_squared_error: 0.2030\n",
      "Epoch 61/100\n",
      "1317/1317 [==============================] - 8s 6ms/step - loss: 0.6034 - root_mean_squared_error: 0.1943 - val_loss: 0.6140 - val_root_mean_squared_error: 0.2062\n",
      "Epoch 62/100\n",
      "1317/1317 [==============================] - 8s 6ms/step - loss: 0.6032 - root_mean_squared_error: 0.1966 - val_loss: 0.6114 - val_root_mean_squared_error: 0.2013\n",
      "Epoch 63/100\n",
      "1317/1317 [==============================] - 8s 6ms/step - loss: 0.6014 - root_mean_squared_error: 0.1924 - val_loss: 0.6128 - val_root_mean_squared_error: 0.2047\n",
      "Epoch 64/100\n",
      "1317/1317 [==============================] - 8s 6ms/step - loss: 0.6009 - root_mean_squared_error: 0.1941 - val_loss: 0.6136 - val_root_mean_squared_error: 0.2035\n",
      "Epoch 65/100\n",
      "1317/1317 [==============================] - 8s 6ms/step - loss: 0.6019 - root_mean_squared_error: 0.1929 - val_loss: 0.6154 - val_root_mean_squared_error: 0.2076\n",
      "Epoch 66/100\n",
      "1317/1317 [==============================] - 8s 6ms/step - loss: 0.6019 - root_mean_squared_error: 0.1950 - val_loss: 0.6123 - val_root_mean_squared_error: 0.2024\n",
      "Epoch 67/100\n",
      "1317/1317 [==============================] - 8s 6ms/step - loss: 0.6007 - root_mean_squared_error: 0.1921 - val_loss: 0.6142 - val_root_mean_squared_error: 0.2061\n",
      "Epoch 68/100\n",
      "1317/1317 [==============================] - 8s 6ms/step - loss: 0.6019 - root_mean_squared_error: 0.1951 - val_loss: 0.6118 - val_root_mean_squared_error: 0.2017\n",
      "Epoch 69/100\n",
      "1317/1317 [==============================] - 8s 6ms/step - loss: 0.6025 - root_mean_squared_error: 0.1936 - val_loss: 0.6126 - val_root_mean_squared_error: 0.2040\n",
      "Epoch 70/100\n",
      "1317/1317 [==============================] - 8s 6ms/step - loss: 0.6021 - root_mean_squared_error: 0.1951 - val_loss: 0.6133 - val_root_mean_squared_error: 0.2032\n",
      "Epoch 71/100\n",
      "1317/1317 [==============================] - 8s 6ms/step - loss: 0.6014 - root_mean_squared_error: 0.1929 - val_loss: 0.6130 - val_root_mean_squared_error: 0.2044\n",
      "Epoch 72/100\n",
      "1317/1317 [==============================] - 8s 6ms/step - loss: 0.6020 - root_mean_squared_error: 0.1950 - val_loss: 0.6131 - val_root_mean_squared_error: 0.2029\n",
      "Epoch 73/100\n",
      "1317/1317 [==============================] - 8s 6ms/step - loss: 0.6020 - root_mean_squared_error: 0.1930 - val_loss: 0.6144 - val_root_mean_squared_error: 0.2056\n",
      "Epoch 74/100\n",
      "1317/1317 [==============================] - 8s 6ms/step - loss: 0.6016 - root_mean_squared_error: 0.1948 - val_loss: 0.6143 - val_root_mean_squared_error: 0.2040\n",
      "Epoch 75/100\n",
      "1317/1317 [==============================] - 8s 6ms/step - loss: 0.6031 - root_mean_squared_error: 0.1941 - val_loss: 0.6152 - val_root_mean_squared_error: 0.2066\n",
      "Epoch 76/100\n",
      "1317/1317 [==============================] - 8s 6ms/step - loss: 0.6031 - root_mean_squared_error: 0.1963 - val_loss: 0.6151 - val_root_mean_squared_error: 0.2044\n",
      "Epoch 77/100\n",
      "1317/1317 [==============================] - 8s 6ms/step - loss: 0.6027 - root_mean_squared_error: 0.1937 - val_loss: 0.6155 - val_root_mean_squared_error: 0.2068\n",
      "Epoch 78/100\n",
      "1317/1317 [==============================] - 8s 6ms/step - loss: 0.6016 - root_mean_squared_error: 0.1945 - val_loss: 0.6132 - val_root_mean_squared_error: 0.2029\n",
      "Epoch 79/100\n",
      "1317/1317 [==============================] - 8s 6ms/step - loss: 0.6029 - root_mean_squared_error: 0.1941 - val_loss: 0.6133 - val_root_mean_squared_error: 0.2044\n",
      "Epoch 80/100\n",
      "1317/1317 [==============================] - 8s 6ms/step - loss: 0.6022 - root_mean_squared_error: 0.1952 - val_loss: 0.6128 - val_root_mean_squared_error: 0.2026\n",
      "Epoch 81/100\n",
      "1317/1317 [==============================] - 8s 6ms/step - loss: 0.6014 - root_mean_squared_error: 0.1928 - val_loss: 0.6134 - val_root_mean_squared_error: 0.2044\n",
      "Epoch 82/100\n",
      "1317/1317 [==============================] - 8s 6ms/step - loss: 0.6009 - root_mean_squared_error: 0.1938 - val_loss: 0.6143 - val_root_mean_squared_error: 0.2041\n",
      "Epoch 83/100\n",
      "1317/1317 [==============================] - 8s 6ms/step - loss: 0.6029 - root_mean_squared_error: 0.1945 - val_loss: 0.6127 - val_root_mean_squared_error: 0.2036\n",
      "Epoch 84/100\n",
      "1317/1317 [==============================] - 8s 6ms/step - loss: 0.6013 - root_mean_squared_error: 0.1940 - val_loss: 0.6142 - val_root_mean_squared_error: 0.2038\n",
      "Epoch 85/100\n",
      "1317/1317 [==============================] - 8s 6ms/step - loss: 0.6019 - root_mean_squared_error: 0.1931 - val_loss: 0.6149 - val_root_mean_squared_error: 0.2060\n",
      "Epoch 86/100\n",
      "1317/1317 [==============================] - 8s 6ms/step - loss: 0.6035 - root_mean_squared_error: 0.1966 - val_loss: 0.6154 - val_root_mean_squared_error: 0.2048\n",
      "Epoch 87/100\n",
      "1317/1317 [==============================] - 8s 6ms/step - loss: 0.6032 - root_mean_squared_error: 0.1942 - val_loss: 0.6141 - val_root_mean_squared_error: 0.2048\n",
      "Epoch 88/100\n",
      "1317/1317 [==============================] - 8s 6ms/step - loss: 0.6024 - root_mean_squared_error: 0.1955 - val_loss: 0.6143 - val_root_mean_squared_error: 0.2037\n",
      "Epoch 89/100\n",
      "1317/1317 [==============================] - 8s 6ms/step - loss: 0.6018 - root_mean_squared_error: 0.1929 - val_loss: 0.6145 - val_root_mean_squared_error: 0.2056\n",
      "Epoch 90/100\n",
      "1317/1317 [==============================] - 8s 6ms/step - loss: 0.6024 - root_mean_squared_error: 0.1954 - val_loss: 0.6155 - val_root_mean_squared_error: 0.2050\n",
      "Epoch 91/100\n",
      "1317/1317 [==============================] - 8s 6ms/step - loss: 0.6008 - root_mean_squared_error: 0.1919 - val_loss: 0.6149 - val_root_mean_squared_error: 0.2058\n",
      "Epoch 92/100\n",
      "1317/1317 [==============================] - 8s 6ms/step - loss: 0.6021 - root_mean_squared_error: 0.1951 - val_loss: 0.6148 - val_root_mean_squared_error: 0.2041\n",
      "Epoch 93/100\n",
      "1317/1317 [==============================] - 8s 6ms/step - loss: 0.6023 - root_mean_squared_error: 0.1935 - val_loss: 0.6153 - val_root_mean_squared_error: 0.2057\n",
      "Epoch 94/100\n",
      "1317/1317 [==============================] - 8s 6ms/step - loss: 0.6024 - root_mean_squared_error: 0.1952 - val_loss: 0.6164 - val_root_mean_squared_error: 0.2050\n",
      "Epoch 95/100\n",
      "1317/1317 [==============================] - 8s 6ms/step - loss: 0.6027 - root_mean_squared_error: 0.1938 - val_loss: 0.6148 - val_root_mean_squared_error: 0.2051\n",
      "Epoch 96/100\n",
      "1317/1317 [==============================] - 8s 6ms/step - loss: 0.6037 - root_mean_squared_error: 0.1967 - val_loss: 0.6185 - val_root_mean_squared_error: 0.2069\n",
      "Epoch 97/100\n",
      "1317/1317 [==============================] - 8s 6ms/step - loss: 0.6030 - root_mean_squared_error: 0.1940 - val_loss: 0.6152 - val_root_mean_squared_error: 0.2054\n",
      "Epoch 98/100\n",
      "1317/1317 [==============================] - 8s 6ms/step - loss: 0.6025 - root_mean_squared_error: 0.1957 - val_loss: 0.6195 - val_root_mean_squared_error: 0.2077\n",
      "Epoch 99/100\n",
      "1317/1317 [==============================] - 8s 6ms/step - loss: 0.6022 - root_mean_squared_error: 0.1930 - val_loss: 0.6148 - val_root_mean_squared_error: 0.2052\n",
      "Epoch 100/100\n",
      "1317/1317 [==============================] - 8s 6ms/step - loss: 0.6031 - root_mean_squared_error: 0.1963 - val_loss: 0.6187 - val_root_mean_squared_error: 0.2070\n"
     ]
    }
   ],
   "source": [
    "# Memulai training\n",
    " \n",
    "history = model.fit(\n",
    "    x = x_train,\n",
    "    y = y_train,\n",
    "    batch_size = 64,\n",
    "    epochs = 100,\n",
    "    validation_data = (x_val, y_val)\n",
    ")"
   ]
  },
  {
   "cell_type": "markdown",
   "metadata": {},
   "source": [
    "Memvisualisasikan hasil dari proses training yang berlangsung. Dari visualisasi proses training model di atas cukup smooth dan model konvergen pada epochs sekitar 100. Dari proses ini, kita memperoleh nilai error akhir sebesar sekitar 0.19 dan error pada data validasi sebesar 0.20."
   ]
  },
  {
   "cell_type": "code",
   "execution_count": 57,
   "metadata": {},
   "outputs": [
    {
     "data": {
      "image/png": "[encoded data removed]",
      "text/plain": [
       "<Figure size 432x288 with 1 Axes>"
      ]
     },
     "metadata": {
      "needs_background": "light"
     },
     "output_type": "display_data"
    }
   ],
   "source": [
    "plt.plot(history.history['root_mean_squared_error'])\n",
    "plt.plot(history.history['val_root_mean_squared_error'])\n",
    "plt.title('model_metrics')\n",
    "plt.ylabel('root_mean_squared_error')\n",
    "plt.xlabel('epoch')\n",
    "plt.legend(['train', 'test'], loc='upper left')\n",
    "plt.show()"
   ]
  },
  {
   "cell_type": "markdown",
   "metadata": {},
   "source": [
    "### Rekomendasi Movie"
   ]
  },
  {
   "cell_type": "code",
   "execution_count": 58,
   "metadata": {},
   "outputs": [],
   "source": [
    "movie_df = movie_fix\n",
    "df = pd.read_csv('movielens-dataset/ratings.csv')\n",
    " \n",
    "\n",
    "user_id = df.userId.sample(1).iloc[0]\n",
    "movie_watched_by_user = df[df.userId == user_id]\n",
    " \n",
    "\n",
    "movie_not_watched = movie_df[~movie_df['id'].isin(movie_watched_by_user.movieId.values)]['id'] \n",
    "movie_not_watched = list(\n",
    "    set(movie_not_watched)\n",
    "    .intersection(set(movie_encoded.keys()))\n",
    ")\n",
    " \n",
    "movie_not_watched = [[movie_encoded.get(x)] for x in movie_not_watched]\n",
    "user_encoder = user_encoded.get(user_id)\n",
    "user_movie_array = np.hstack(\n",
    "    ([[user_encoder]] * len(movie_not_watched), movie_not_watched)\n",
    ")"
   ]
  },
  {
   "cell_type": "markdown",
   "metadata": {},
   "source": [
    "Digunakan `.predict()` untuk mendapatkan rekomendasi movie"
   ]
  },
  {
   "cell_type": "code",
   "execution_count": 60,
   "metadata": {},
   "outputs": [
    {
     "name": "stdout",
     "output_type": "stream",
     "text": [
      "320/320 [==============================] - 1s 2ms/step\n",
      "Showing recommendations for users: 342\n",
      "===========================\n",
      "movie with high ratings from user\n",
      "--------------------------------\n",
      "Multiplicity (1996) : Comedy\n",
      "Maverick (1994) : Adventure|Comedy|Western\n",
      "Age of Innocence, The (1993) : Drama\n",
      "Legends of the Fall (1994) : Drama|Romance|War|Western\n",
      "Primal Fear (1996) : Crime|Drama|Mystery|Thriller\n",
      "--------------------------------\n",
      "Top 10 movie recommendation\n",
      "--------------------------------\n",
      "Memories (Memorîzu) (1995) : Animation|Fantasy|Sci-Fi|Thriller\n",
      "King of Masks, The (Bian Lian) (1996) : Drama\n",
      "Memories of Murder (Salinui chueok) (2003) : Crime|Drama|Mystery|Thriller\n",
      "Until the End of the World (Bis ans Ende der Welt) (1991) : Adventure|Drama|Sci-Fi\n",
      "Interstate 60 (2002) : Adventure|Comedy|Drama|Fantasy|Mystery|Sci-Fi|Thriller\n",
      "Resident Evil: Retribution (2012) : Action|Horror|Sci-Fi|IMAX\n",
      "Fireworks (Hana-bi) (1997) : Crime|Drama\n",
      "Pier, The (Jetée, La) (1962) : Romance|Sci-Fi\n",
      "Star Wreck: In the Pirkinning (2005) : Action|Comedy|Sci-Fi\n",
      "Animal Farm (1954) : Animation|Drama\n"
     ]
    }
   ],
   "source": [
    "ratings = model.predict(user_movie_array).flatten()\n",
    " \n",
    "top_ratings_indices = ratings.argsort()[-10:][::-1]\n",
    "recommended_movie_ids = [\n",
    "    to_movie.get(movie_not_watched[x][0]) for x in top_ratings_indices\n",
    "]\n",
    " \n",
    "print('Showing recommendations for users: {}'.format(user_id))\n",
    "print('===' * 9)\n",
    "print('movie with high ratings from user')\n",
    "print('----' * 8)\n",
    " \n",
    "top_movie_user = (\n",
    "    movie_watched_by_user.sort_values(\n",
    "        by = 'rating',\n",
    "        ascending=False\n",
    "    )\n",
    "    .head(5)\n",
    "    .movieId.values\n",
    ")\n",
    " \n",
    "movie_df_rows = movie_df[movie_df['id'].isin(top_movie_user)]\n",
    "for row in movie_df_rows.itertuples():\n",
    "    print(row.title, ':', row.genre)\n",
    " \n",
    "print('----' * 8)\n",
    "print('Top 10 movie recommendation')\n",
    "print('----' * 8)\n",
    " \n",
    "recommended_movie = movie_df[movie_df['id'].isin(recommended_movie_ids)]\n",
    "for row in recommended_movie.itertuples():\n",
    "    print(row.title, ':', row.genre)"
   ]
  },
  {
   "cell_type": "markdown",
   "metadata": {},
   "source": [
    "Dari hasil rekomendasi di atas, diketahui bahwa rekomendasi paling tinggi adalah movie dengan genre comedy. Kemudian, top 10 movie yang direkomendasikan oleh sistem adalah Animasi, Fantasi, Sci-fi, dan Thriller."
   ]
  },
  {
   "cell_type": "code",
   "execution_count": null,
   "metadata": {},
   "outputs": [],
   "source": []
  }
 ],
 "metadata": {
  "kernelspec": {
   "display_name": "Python 3.9.12 ('base')",
   "language": "python",
   "name": "python3"
  },
  "language_info": {
   "codemirror_mode": {
    "name": "ipython",
    "version": 3
   },
   "file_extension": ".py",
   "mimetype": "text/x-python",
   "name": "python",
   "nbconvert_exporter": "python",
   "pygments_lexer": "ipython3",
   "version": "3.9.12"
  },
  "orig_nbformat": 4,
  "vscode": {
   "interpreter": {
    "hash": "5179d32cf6ec497baf3f8a3ef987cc77c5d2dc691fdde20a56316522f61a7323"
   }
  }
 },
 "nbformat": 4,
 "nbformat_minor": 2
}
